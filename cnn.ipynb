{
 "cells": [
  {
   "cell_type": "markdown",
   "metadata": {},
   "source": [
    "<h2>CNN for Fake News Detection</h2>"
   ]
  },
  {
   "cell_type": "markdown",
   "metadata": {},
   "source": [
    "This file contains the implementation of a CNN that performs sentiment analysis on political statements. I used some of the code from https://cezannec.github.io/CNN_Text_Classification/. The steps taken to build this model are:\n",
    "\n",
    "<ol>\n",
    "    <li> Data Preprocessing\n",
    "    <li> Tokenizing Political Statements\n",
    "    <li> Train/Validation/Test Splitting (already set in the data folder)\n",
    "    <li> Defining a CNN for Sentiment Analysis\n",
    "    <li> Training and Evaluating the Model \n",
    "\n",
    "</ol>\n",
    "\n"
   ]
  },
  {
   "cell_type": "markdown",
   "metadata": {},
   "source": [
    "<h3>Data Preprocessing</h3>"
   ]
  },
  {
   "cell_type": "markdown",
   "metadata": {},
   "source": [
    "The following code comes from preprocessing.ipynb file."
   ]
  },
  {
   "cell_type": "code",
   "execution_count": 1,
   "metadata": {},
   "outputs": [],
   "source": [
    "import pandas as pd\n",
    "import numpy as np\n",
    "import nltk\n",
    "import re\n",
    "from tqdm import tqdm\n",
    "import os\n",
    "\n",
    "numeric_labels = {'pants-fire':0, 'false':1, 'barely-true':2, 'half-true':3, 'mostly-true':4, 'true':5}\n",
    "path = os.getcwd() + '/data'\n",
    "headers = ['id', 'label', 'statement', 'subject', 'speaker', 'job_title', 'state_info', 'affiliation', 'barely_true',\n",
    "           'false', 'half_true', 'mostly_true', 'pants-fire', 'context']\n",
    "train = pd.read_csv(path + '/train.tsv', sep='\\t', header=None, names=headers)\n",
    "valid = pd.read_csv(path + '/valid.tsv', sep='\\t', header=None, names=headers)\n",
    "test = pd.read_csv(path + '/test.tsv', sep='\\t', header=None, names=headers)\n",
    "\n",
    "# lowercase, remove punctuation, remove numbers\n",
    "def clean_text(text):\n",
    "    if not isinstance(text, str):\n",
    "        return text\n",
    "    clean_text = text.lower()\n",
    "    clean_text = re.sub(r'[^\\w\\s]', '', clean_text)\n",
    "    return clean_text\n",
    "\n",
    "def clean_labels(label):\n",
    "    return numeric_labels[label]\n",
    "\n",
    "# cols indicates which columns we want to KEEP, the rest are dropped\n",
    "def drop_columns(df, cols):\n",
    "    new_df = df[cols]\n",
    "    new_df = new_df.dropna() # rows with incomplete information (NaN's) are dropped\n",
    "    return new_df"
   ]
  },
  {
   "cell_type": "markdown",
   "metadata": {},
   "source": [
    "For this model, we will only be using the statement text and the corresponding labels."
   ]
  },
  {
   "cell_type": "code",
   "execution_count": 2,
   "metadata": {},
   "outputs": [
    {
     "data": {
      "text/html": [
       "<div>\n",
       "<style scoped>\n",
       "    .dataframe tbody tr th:only-of-type {\n",
       "        vertical-align: middle;\n",
       "    }\n",
       "\n",
       "    .dataframe tbody tr th {\n",
       "        vertical-align: top;\n",
       "    }\n",
       "\n",
       "    .dataframe thead th {\n",
       "        text-align: right;\n",
       "    }\n",
       "</style>\n",
       "<table border=\"1\" class=\"dataframe\">\n",
       "  <thead>\n",
       "    <tr style=\"text-align: right;\">\n",
       "      <th></th>\n",
       "      <th>label</th>\n",
       "      <th>statement</th>\n",
       "    </tr>\n",
       "  </thead>\n",
       "  <tbody>\n",
       "    <tr>\n",
       "      <th>0</th>\n",
       "      <td>1</td>\n",
       "      <td>says the annies list political group supports ...</td>\n",
       "    </tr>\n",
       "    <tr>\n",
       "      <th>1</th>\n",
       "      <td>3</td>\n",
       "      <td>when did the decline of coal start it started ...</td>\n",
       "    </tr>\n",
       "    <tr>\n",
       "      <th>2</th>\n",
       "      <td>4</td>\n",
       "      <td>hillary clinton agrees with john mccain by vot...</td>\n",
       "    </tr>\n",
       "    <tr>\n",
       "      <th>3</th>\n",
       "      <td>1</td>\n",
       "      <td>health care reform legislation is likely to ma...</td>\n",
       "    </tr>\n",
       "    <tr>\n",
       "      <th>4</th>\n",
       "      <td>3</td>\n",
       "      <td>the economic turnaround started at the end of ...</td>\n",
       "    </tr>\n",
       "  </tbody>\n",
       "</table>\n",
       "</div>"
      ],
      "text/plain": [
       "   label                                          statement\n",
       "0      1  says the annies list political group supports ...\n",
       "1      3  when did the decline of coal start it started ...\n",
       "2      4  hillary clinton agrees with john mccain by vot...\n",
       "3      1  health care reform legislation is likely to ma...\n",
       "4      3  the economic turnaround started at the end of ..."
      ]
     },
     "execution_count": 2,
     "metadata": {},
     "output_type": "execute_result"
    }
   ],
   "source": [
    "train['statement'] = train['statement'].apply(clean_text)\n",
    "train['label'] = train['label'].apply(clean_labels)\n",
    "train = drop_columns(train, ['label', 'statement'])\n",
    "train['statement'].to_csv('text_only.csv', index=False, header=['text'])\n",
    "train.head()"
   ]
  },
  {
   "cell_type": "code",
   "execution_count": 3,
   "metadata": {},
   "outputs": [
    {
     "data": {
      "text/html": [
       "<div>\n",
       "<style scoped>\n",
       "    .dataframe tbody tr th:only-of-type {\n",
       "        vertical-align: middle;\n",
       "    }\n",
       "\n",
       "    .dataframe tbody tr th {\n",
       "        vertical-align: top;\n",
       "    }\n",
       "\n",
       "    .dataframe thead th {\n",
       "        text-align: right;\n",
       "    }\n",
       "</style>\n",
       "<table border=\"1\" class=\"dataframe\">\n",
       "  <thead>\n",
       "    <tr style=\"text-align: right;\">\n",
       "      <th></th>\n",
       "      <th>label</th>\n",
       "      <th>statement</th>\n",
       "    </tr>\n",
       "  </thead>\n",
       "  <tbody>\n",
       "    <tr>\n",
       "      <th>0</th>\n",
       "      <td>2</td>\n",
       "      <td>we have less americans working now than in the...</td>\n",
       "    </tr>\n",
       "    <tr>\n",
       "      <th>1</th>\n",
       "      <td>0</td>\n",
       "      <td>when obama was sworn into office he did not us...</td>\n",
       "    </tr>\n",
       "    <tr>\n",
       "      <th>2</th>\n",
       "      <td>1</td>\n",
       "      <td>says having organizations parading as being so...</td>\n",
       "    </tr>\n",
       "    <tr>\n",
       "      <th>3</th>\n",
       "      <td>3</td>\n",
       "      <td>says nearly half of oregons children are poor</td>\n",
       "    </tr>\n",
       "    <tr>\n",
       "      <th>4</th>\n",
       "      <td>3</td>\n",
       "      <td>on attacks by republicans that various program...</td>\n",
       "    </tr>\n",
       "  </tbody>\n",
       "</table>\n",
       "</div>"
      ],
      "text/plain": [
       "   label                                          statement\n",
       "0      2  we have less americans working now than in the...\n",
       "1      0  when obama was sworn into office he did not us...\n",
       "2      1  says having organizations parading as being so...\n",
       "3      3      says nearly half of oregons children are poor\n",
       "4      3  on attacks by republicans that various program..."
      ]
     },
     "execution_count": 3,
     "metadata": {},
     "output_type": "execute_result"
    }
   ],
   "source": [
    "valid['statement'] = valid['statement'].apply(clean_text)\n",
    "valid['label'] = valid['label'].apply(clean_labels)\n",
    "valid = drop_columns(valid, ['label', 'statement'])\n",
    "valid['statement'].to_csv('text_only.csv', index=False, header=['text'])\n",
    "valid.head()"
   ]
  },
  {
   "cell_type": "code",
   "execution_count": 4,
   "metadata": {},
   "outputs": [
    {
     "data": {
      "text/html": [
       "<div>\n",
       "<style scoped>\n",
       "    .dataframe tbody tr th:only-of-type {\n",
       "        vertical-align: middle;\n",
       "    }\n",
       "\n",
       "    .dataframe tbody tr th {\n",
       "        vertical-align: top;\n",
       "    }\n",
       "\n",
       "    .dataframe thead th {\n",
       "        text-align: right;\n",
       "    }\n",
       "</style>\n",
       "<table border=\"1\" class=\"dataframe\">\n",
       "  <thead>\n",
       "    <tr style=\"text-align: right;\">\n",
       "      <th></th>\n",
       "      <th>label</th>\n",
       "      <th>statement</th>\n",
       "    </tr>\n",
       "  </thead>\n",
       "  <tbody>\n",
       "    <tr>\n",
       "      <th>0</th>\n",
       "      <td>5</td>\n",
       "      <td>building a wall on the usmexico border will ta...</td>\n",
       "    </tr>\n",
       "    <tr>\n",
       "      <th>1</th>\n",
       "      <td>1</td>\n",
       "      <td>wisconsin is on pace to double the number of l...</td>\n",
       "    </tr>\n",
       "    <tr>\n",
       "      <th>2</th>\n",
       "      <td>1</td>\n",
       "      <td>says john mccain has done nothing to help the ...</td>\n",
       "    </tr>\n",
       "    <tr>\n",
       "      <th>3</th>\n",
       "      <td>3</td>\n",
       "      <td>suzanne bonamici supports a plan that will cut...</td>\n",
       "    </tr>\n",
       "    <tr>\n",
       "      <th>4</th>\n",
       "      <td>0</td>\n",
       "      <td>when asked by a reporter whether hes at the ce...</td>\n",
       "    </tr>\n",
       "  </tbody>\n",
       "</table>\n",
       "</div>"
      ],
      "text/plain": [
       "   label                                          statement\n",
       "0      5  building a wall on the usmexico border will ta...\n",
       "1      1  wisconsin is on pace to double the number of l...\n",
       "2      1  says john mccain has done nothing to help the ...\n",
       "3      3  suzanne bonamici supports a plan that will cut...\n",
       "4      0  when asked by a reporter whether hes at the ce..."
      ]
     },
     "execution_count": 4,
     "metadata": {},
     "output_type": "execute_result"
    }
   ],
   "source": [
    "test['statement'] = test['statement'].apply(clean_text)\n",
    "test['label'] = test['label'].apply(clean_labels)\n",
    "test = drop_columns(test, ['label', 'statement'])\n",
    "test['statement'].to_csv('text_only.csv', index=False, header=['text'])\n",
    "test.head()"
   ]
  },
  {
   "cell_type": "code",
   "execution_count": 6,
   "metadata": {},
   "outputs": [],
   "source": [
    "statements_train = train['statement']\n",
    "labels_train = train['label']\n",
    "\n",
    "statements_valid = valid['statement']\n",
    "labels_valid = valid['label']\n",
    "\n",
    "statements_test = test['statement']\n",
    "labels_test = test['label']"
   ]
  },
  {
   "cell_type": "markdown",
   "metadata": {},
   "source": [
    "Now, the data is processed and ready to use!"
   ]
  },
  {
   "cell_type": "markdown",
   "metadata": {},
   "source": [
    "<h3>Tokenizing Political Statements</h3>"
   ]
  },
  {
   "cell_type": "markdown",
   "metadata": {},
   "source": [
    "Next, we will tokenize the political statements using a pretrained embedding model. Specifically, we will be using Google News word2vec model (https://github.com/eyaler/word2vec-slim/tree/master). According to the github README, \"the model was trained over a 3 billion word corpus, and contains 3 million words (of which ~930k are NOT phrases, i.e. do not contain underscores).\" Using this model will make tokenizing the statements much easier, as we will not need to create the token dictionaries by hand. There will be some words that are not listed in the pretrained embedded model, so we will account for that in the corresponding function."
   ]
  },
  {
   "cell_type": "code",
   "execution_count": 7,
   "metadata": {},
   "outputs": [],
   "source": [
    "from gensim.models import KeyedVectors\n",
    "\n",
    "# creating the pretrained embedding model\n",
    "embed = KeyedVectors.load_word2vec_format('GoogleNews-vectors-negative300-SLIM.bin', binary=True)"
   ]
  },
  {
   "cell_type": "code",
   "execution_count": 16,
   "metadata": {},
   "outputs": [],
   "source": [
    "# find all unlisted words\n",
    "def unlisted_words(embed, statements):\n",
    "    statement_words = [statement.split() for statement in statements]\n",
    "    unlisted_words = []\n",
    "    for statement in statement_words:\n",
    "        for word in statement:\n",
    "            try:\n",
    "                idx = embed.key_to_index.get(word)\n",
    "\n",
    "                # if word not in embedded list, add to unlisted words vec\n",
    "                if idx == None:\n",
    "                    unlisted_words.append(word)\n",
    "            except: \n",
    "                idx = 0\n",
    " \n",
    "    return unlisted_words\n",
    "\n",
    "# create a token dictionary for unlisted words \n",
    "def token_dict(unlisted, num):\n",
    "    t_dict = {}\n",
    "    i = 0\n",
    "    for word in unlisted:\n",
    "        t_dict[word] = num + i\n",
    "        i = i + 1\n",
    "    return t_dict\n",
    "\n",
    "# convert political statements to tokens\n",
    "def tokenize_all_statements(embed, statements, t_dict):\n",
    "    # split each statement into a list of words\n",
    "    statement_words = [statement.split() for statement in statements]\n",
    "    em_len = len(embed.key_to_index)\n",
    "\n",
    "    tokenized_statements = []\n",
    "    for statement in statement_words:\n",
    "        ints = []\n",
    "        for word in statement:\n",
    "            try:\n",
    "                idx = embed.key_to_index.get(word)\n",
    "\n",
    "                # if word not in embedded list, create new token\n",
    "                if idx == None:\n",
    "                    idx = t_dict[word]\n",
    "            except: \n",
    "                idx = 0\n",
    "            ints.append(idx)\n",
    "        tokenized_statements.append(ints)\n",
    "    \n",
    "    return tokenized_statements"
   ]
  },
  {
   "cell_type": "code",
   "execution_count": 21,
   "metadata": {},
   "outputs": [
    {
     "name": "stdout",
     "output_type": "stream",
     "text": [
      "says the annies list political group supports thirdtrimester abortions on demand\n",
      "[109, 9, 299567, 680, 424, 215, 2876, 299568, 11132, 4, 656]\n",
      "we have less americans working now than in the 70s\n",
      "[34, 19, 350, 69404, 322, 92, 55, 0, 9, 302829]\n",
      "building a wall on the usmexico border will take literally years\n",
      "[446, 299581, 2270, 4, 9, 299709, 1473, 21, 135, 5220, 72]\n"
     ]
    }
   ],
   "source": [
    "# find unlisted words and build token dictionary\n",
    "unlisted = []\n",
    "\n",
    "train_unlisted = unlisted_words(embed, statements_train)\n",
    "valid_unlisted = unlisted_words(embed, statements_valid)\n",
    "test_unlisted = unlisted_words(embed, statements_test)\n",
    "\n",
    "unlisted.extend(x for x in train_unlisted if x not in unlisted)\n",
    "unlisted.extend(x for x in valid_unlisted if x not in unlisted)\n",
    "unlisted.extend(x for x in test_unlisted if x not in unlisted)\n",
    "\n",
    "num_tokens = len(embed.key_to_index)\n",
    "\n",
    "t_dict = token_dict(unlisted, num_tokens)\n",
    "\n",
    "# tokenize the statements\n",
    "tokenized_train = tokenize_all_statements(embed, statements_train, t_dict)\n",
    "tokenized_valid = tokenize_all_statements(embed, statements_valid, t_dict)\n",
    "tokenized_test = tokenize_all_statements(embed, statements_test, t_dict)\n",
    "\n",
    "# check if the tokenizing works\n",
    "print(statements_train[0])\n",
    "print(tokenized_train[0])\n",
    "\n",
    "print(statements_valid[0])\n",
    "print(tokenized_valid[0])\n",
    "\n",
    "print(statements_test[0])\n",
    "print(tokenized_test[0])"
   ]
  },
  {
   "cell_type": "markdown",
   "metadata": {},
   "source": [
    "Now, we need to pad the tokenized statements list to make all the statements the same length. The final array should be 2D, with as many rows as statements and as many columns as the longest statement."
   ]
  },
  {
   "cell_type": "code",
   "execution_count": 24,
   "metadata": {},
   "outputs": [],
   "source": [
    "# pad the features into a 2D representation\n",
    "def pad_features(tokenized_statements, max_length):\n",
    "\n",
    "    # getting the correct rows x cols shape\n",
    "    features = np.zeros((len(tokenized_statements), max_length), dtype=int)\n",
    "    \n",
    "    for i, row in enumerate(tokenized_statements):\n",
    "        features[i, -len(row):] = np.array(row)[:max_length]\n",
    "    \n",
    "    return features"
   ]
  },
  {
   "cell_type": "code",
   "execution_count": 26,
   "metadata": {},
   "outputs": [],
   "source": [
    "from collections import Counter\n",
    "\n",
    "max_len_train = max(Counter([len(x.split()) for x in statements_train]))\n",
    "max_len_valid = max(Counter([len(x.split()) for x in statements_valid]))\n",
    "max_len_test = max(Counter([len(x.split()) for x in statements_test]))\n",
    "\n",
    "max_len = max(max_len_train, max_len_test, max_len_valid)\n",
    "\n",
    "features = pad_features(tokenized_states, max_len)\n",
    "\n",
    "# test statements to make sure dimensions are set\n",
    "assert len(features)==len(tokenized_states), \"Features should have as many rows as reviews.\"\n",
    "assert len(features[0])==max_len, \"Each feature row should contain seq_length values.\"\n"
   ]
  },
  {
   "cell_type": "markdown",
   "metadata": {},
   "source": [
    "Now, the training data is tokenized and put into a 2D array. We repeat the same thing for test.tsv and valid.tsv."
   ]
  }
 ],
 "metadata": {
  "kernelspec": {
   "display_name": "base",
   "language": "python",
   "name": "python3"
  },
  "language_info": {
   "codemirror_mode": {
    "name": "ipython",
    "version": 3
   },
   "file_extension": ".py",
   "mimetype": "text/x-python",
   "name": "python",
   "nbconvert_exporter": "python",
   "pygments_lexer": "ipython3",
   "version": "3.8.5"
  }
 },
 "nbformat": 4,
 "nbformat_minor": 2
}
