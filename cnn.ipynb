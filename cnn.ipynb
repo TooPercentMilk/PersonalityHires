{
 "cells": [
  {
   "cell_type": "markdown",
   "metadata": {},
   "source": [
    "<h2>CNN for Fake News Detection</h2>"
   ]
  },
  {
   "cell_type": "markdown",
   "metadata": {},
   "source": [
    "This file contains the implementation of a CNN that performs sentiment analysis on political statements. I used some of the code from https://cezannec.github.io/CNN_Text_Classification/. The steps taken to build this model are:\n",
    "\n",
    "<ol>\n",
    "    <li> Data Preprocessing\n",
    "    <li> Tokenizing Political Statements\n",
    "    <li> Train/Validation/Test Splitting (already set in the data folder)\n",
    "    <li> Defining a CNN for Sentiment Analysis\n",
    "    <li> Training and Evaluating the Model \n",
    "\n",
    "</ol>\n",
    "\n"
   ]
  },
  {
   "cell_type": "markdown",
   "metadata": {},
   "source": [
    "<h3>Data Preprocessing</h3>"
   ]
  },
  {
   "cell_type": "markdown",
   "metadata": {},
   "source": [
    "The following code comes from preprocessing.ipynb file."
   ]
  },
  {
   "cell_type": "code",
   "execution_count": 14,
   "metadata": {},
   "outputs": [],
   "source": [
    "import pandas as pd\n",
    "import numpy as np\n",
    "import nltk\n",
    "import re\n",
    "from tqdm import tqdm\n",
    "import os\n",
    "\n",
    "numeric_labels = {'pants-fire':0, 'false':1, 'barely-true':2, 'half-true':3, 'mostly-true':4, 'true':5}\n",
    "path = os.getcwd() + '/data'\n",
    "headers = ['id', 'label', 'statement', 'subject', 'speaker', 'job_title', 'state_info', 'affiliation', 'barely_true',\n",
    "           'false', 'half_true', 'mostly_true', 'pants-fire', 'context']\n",
    "train = pd.read_csv(path + '/train.tsv', sep='\\t', header=None, names=headers)\n",
    "valid = pd.read_csv(path + '/valid.tsv', sep='\\t', header=None, names=headers)\n",
    "test = pd.read_csv(path + '/test.tsv', sep='\\t', header=None, names=headers)\n",
    "\n",
    "# lowercase, remove punctuation, remove numbers\n",
    "def clean_text(text):\n",
    "    if not isinstance(text, str):\n",
    "        return text\n",
    "    clean_text = text.lower()\n",
    "    clean_text = re.sub(r'[^\\w\\s]', '', clean_text)\n",
    "    return clean_text\n",
    "\n",
    "def clean_labels(label):\n",
    "    return numeric_labels[label]\n",
    "\n",
    "# cols indicates which columns we want to KEEP, the rest are dropped\n",
    "def drop_columns(df, cols):\n",
    "    new_df = df[cols]\n",
    "    new_df = new_df.dropna() # rows with incomplete information (NaN's) are dropped\n",
    "    return new_df"
   ]
  },
  {
   "cell_type": "markdown",
   "metadata": {},
   "source": [
    "For this model, we will only be using the statement text and the corresponding labels."
   ]
  },
  {
   "cell_type": "code",
   "execution_count": 2,
   "metadata": {},
   "outputs": [
    {
     "data": {
      "text/html": [
       "<div>\n",
       "<style scoped>\n",
       "    .dataframe tbody tr th:only-of-type {\n",
       "        vertical-align: middle;\n",
       "    }\n",
       "\n",
       "    .dataframe tbody tr th {\n",
       "        vertical-align: top;\n",
       "    }\n",
       "\n",
       "    .dataframe thead th {\n",
       "        text-align: right;\n",
       "    }\n",
       "</style>\n",
       "<table border=\"1\" class=\"dataframe\">\n",
       "  <thead>\n",
       "    <tr style=\"text-align: right;\">\n",
       "      <th></th>\n",
       "      <th>label</th>\n",
       "      <th>statement</th>\n",
       "    </tr>\n",
       "  </thead>\n",
       "  <tbody>\n",
       "    <tr>\n",
       "      <th>0</th>\n",
       "      <td>1</td>\n",
       "      <td>says the annies list political group supports ...</td>\n",
       "    </tr>\n",
       "    <tr>\n",
       "      <th>1</th>\n",
       "      <td>3</td>\n",
       "      <td>when did the decline of coal start it started ...</td>\n",
       "    </tr>\n",
       "    <tr>\n",
       "      <th>2</th>\n",
       "      <td>4</td>\n",
       "      <td>hillary clinton agrees with john mccain by vot...</td>\n",
       "    </tr>\n",
       "    <tr>\n",
       "      <th>3</th>\n",
       "      <td>1</td>\n",
       "      <td>health care reform legislation is likely to ma...</td>\n",
       "    </tr>\n",
       "    <tr>\n",
       "      <th>4</th>\n",
       "      <td>3</td>\n",
       "      <td>the economic turnaround started at the end of ...</td>\n",
       "    </tr>\n",
       "  </tbody>\n",
       "</table>\n",
       "</div>"
      ],
      "text/plain": [
       "   label                                          statement\n",
       "0      1  says the annies list political group supports ...\n",
       "1      3  when did the decline of coal start it started ...\n",
       "2      4  hillary clinton agrees with john mccain by vot...\n",
       "3      1  health care reform legislation is likely to ma...\n",
       "4      3  the economic turnaround started at the end of ..."
      ]
     },
     "execution_count": 2,
     "metadata": {},
     "output_type": "execute_result"
    }
   ],
   "source": [
    "train['statement'] = train['statement'].apply(clean_text)\n",
    "train['label'] = train['label'].apply(clean_labels)\n",
    "train = drop_columns(train, ['label', 'statement'])\n",
    "train['statement'].to_csv('text_only.csv', index=False, header=['text'])\n",
    "train.head()"
   ]
  },
  {
   "cell_type": "code",
   "execution_count": 3,
   "metadata": {},
   "outputs": [],
   "source": [
    "statements_train = train['statement']\n",
    "labels_train = np.array(train['label'])\n",
    "\n",
    "statements_valid = valid['statement']\n",
    "labels_valid = np.array(valid['label'])\n",
    "\n",
    "statements_test = test['statement']\n",
    "labels_test = np.array(test['label'])"
   ]
  },
  {
   "cell_type": "markdown",
   "metadata": {},
   "source": [
    "Now, the data is processed and ready to use!"
   ]
  },
  {
   "cell_type": "markdown",
   "metadata": {},
   "source": [
    "<h3>Tokenizing Political Statements</h3>"
   ]
  },
  {
   "cell_type": "markdown",
   "metadata": {},
   "source": [
    "Next, we will tokenize the political statements using a pretrained embedding model. Specifically, we will be using Google News word2vec model (https://github.com/eyaler/word2vec-slim/tree/master). According to the github README, \"the model was trained over a 3 billion word corpus, and contains 3 million words (of which ~930k are NOT phrases, i.e. do not contain underscores).\" Using this model will make tokenizing the statements much easier, as we will not need to create the token dictionaries by hand. There will be some words that are not listed in the pretrained embedded model, so we will account for that in the corresponding function."
   ]
  },
  {
   "cell_type": "code",
   "execution_count": 7,
   "metadata": {},
   "outputs": [],
   "source": [
    "from gensim.models import KeyedVectors\n",
    "\n",
    "# creating the pretrained embedding model\n",
    "embed = KeyedVectors.load_word2vec_format('GoogleNews-vectors-negative300-SLIM.bin', binary=True)"
   ]
  },
  {
   "cell_type": "code",
   "execution_count": 8,
   "metadata": {},
   "outputs": [],
   "source": [
    "# find all unlisted words\n",
    "def unlisted_words(embed, statements):\n",
    "    statement_words = [statement.split() for statement in statements]\n",
    "    unlisted_words = []\n",
    "    for statement in statement_words:\n",
    "        for word in statement:\n",
    "            try:\n",
    "                idx = embed.key_to_index.get(word)\n",
    "\n",
    "                # if word not in embedded list, add to unlisted words vec\n",
    "                if idx == None:\n",
    "                    unlisted_words.append(word)\n",
    "            except: \n",
    "                idx = 0\n",
    " \n",
    "    return unlisted_words\n",
    "\n",
    "# create a token dictionary for unlisted words \n",
    "def token_dict(unlisted, num):\n",
    "    t_dict = {}\n",
    "    i = 0\n",
    "    for word in unlisted:\n",
    "        t_dict[word] = num + i\n",
    "        i = i + 1\n",
    "    return t_dict\n",
    "\n",
    "# convert political statements to tokens\n",
    "def tokenize_all_statements(embed, statements, t_dict):\n",
    "    # split each statement into a list of words\n",
    "    statement_words = [statement.split() for statement in statements]\n",
    "    em_len = len(embed.key_to_index)\n",
    "\n",
    "    tokenized_statements = []\n",
    "    for statement in statement_words:\n",
    "        ints = []\n",
    "        for word in statement:\n",
    "            try:\n",
    "                idx = embed.key_to_index.get(word)\n",
    "\n",
    "                # if word not in embedded list, create new token\n",
    "                if idx == None:\n",
    "                    #idx = t_dict[word]\n",
    "                    idx = 0\n",
    "            except: \n",
    "                idx = 0\n",
    "            ints.append(idx)\n",
    "        tokenized_statements.append(ints)\n",
    "    \n",
    "    return tokenized_statements"
   ]
  },
  {
   "cell_type": "code",
   "execution_count": 9,
   "metadata": {},
   "outputs": [
    {
     "name": "stdout",
     "output_type": "stream",
     "text": [
      "says the annies list political group supports thirdtrimester abortions on demand\n",
      "[109, 9, 0, 680, 424, 215, 2876, 0, 11132, 4, 656]\n",
      "We have less Americans working now than in the 70s.\n",
      "[57, 19, 350, 938, 322, 92, 55, 0, 9, 0]\n",
      "Building a wall on the U.S.-Mexico border will take literally years.\n",
      "[3720, 0, 2270, 4, 9, 0, 1473, 21, 135, 5220, 0]\n"
     ]
    }
   ],
   "source": [
    "# find unlisted words and build token dictionary\n",
    "#unlisted = []\n",
    "\n",
    "#train_unlisted = unlisted_words(embed, statements_train)\n",
    "#valid_unlisted = unlisted_words(embed, statements_valid)\n",
    "#test_unlisted = unlisted_words(embed, statements_test)\n",
    "\n",
    "#unlisted.extend(x for x in train_unlisted if x not in unlisted)\n",
    "#unlisted.extend(x for x in valid_unlisted if x not in unlisted)\n",
    "#unlisted.extend(x for x in test_unlisted if x not in unlisted)\n",
    "\n",
    "num_tokens = len(embed.key_to_index)\n",
    "\n",
    "t_dict = token_dict({}, num_tokens)\n",
    "\n",
    "# tokenize the statements\n",
    "tokenized_train = tokenize_all_statements(embed, statements_train, t_dict)\n",
    "tokenized_valid = tokenize_all_statements(embed, statements_valid, t_dict)\n",
    "tokenized_test = tokenize_all_statements(embed, statements_test, t_dict)\n",
    "\n",
    "# check if the tokenizing works\n",
    "print(statements_train[0])\n",
    "print(tokenized_train[0])\n",
    "\n",
    "print(statements_valid[0])\n",
    "print(tokenized_valid[0])\n",
    "\n",
    "print(statements_test[0])\n",
    "print(tokenized_test[0])"
   ]
  },
  {
   "cell_type": "markdown",
   "metadata": {},
   "source": [
    "Now, we need to pad the tokenized statements list to make all the statements the same length. The final array should be 2D, with as many rows as statements and as many columns as the longest statement."
   ]
  },
  {
   "cell_type": "code",
   "execution_count": 10,
   "metadata": {},
   "outputs": [],
   "source": [
    "# pad the features into a 2D representation\n",
    "def pad_features(tokenized_statements, max_length):\n",
    "\n",
    "    # getting the correct rows x cols shape\n",
    "    features = np.zeros((len(tokenized_statements), max_length), dtype=int)\n",
    "    \n",
    "    for i, row in enumerate(tokenized_statements):\n",
    "        features[i, -len(row):] = np.array(row)[:max_length]\n",
    "    \n",
    "    return features"
   ]
  },
  {
   "cell_type": "code",
   "execution_count": 11,
   "metadata": {},
   "outputs": [],
   "source": [
    "from collections import Counter\n",
    "\n",
    "max_len_train = max(Counter([len(x.split()) for x in statements_train]))\n",
    "max_len_valid = max(Counter([len(x.split()) for x in statements_valid]))\n",
    "max_len_test = max(Counter([len(x.split()) for x in statements_test]))\n",
    "\n",
    "max_len = max(max_len_train, max_len_test, max_len_valid)\n",
    "\n",
    "features_train = np.array(pad_features(tokenized_train, max_len))\n",
    "features_valid = np.array(pad_features(tokenized_valid, max_len))\n",
    "features_test = np.array(pad_features(tokenized_test, max_len))\n",
    "\n",
    "# test statements to make sure dimensions are set\n",
    "assert len(features_train)==len(tokenized_train), \"Features should have as many rows as statements.\"\n",
    "assert len(features_train[0])==max_len, \"Each feature row should contain max_length values.\"\n",
    "assert len(features_valid)==len(tokenized_valid), \"Features should have as many rows as statements.\"\n",
    "assert len(features_valid[0])==max_len, \"Each feature row should contain max_length values.\"\n",
    "assert len(features_test)==len(tokenized_test), \"Features should have as many rows as statements.\"\n",
    "assert len(features_test[0])==max_len, \"Each feature row should contain max_length values.\"\n"
   ]
  },
  {
   "cell_type": "markdown",
   "metadata": {},
   "source": [
    "Now, the training data is tokenized and put into a 2D array. We repeat the same thing for test.tsv and valid.tsv."
   ]
  },
  {
   "cell_type": "markdown",
   "metadata": {},
   "source": [
    "<h3>Train/Validation/Test Splitting (already set in the data folder)</h3>"
   ]
  },
  {
   "cell_type": "markdown",
   "metadata": {},
   "source": [
    "The data folder already has the data split and 2D arrays have been made for the train, valid, and test sets. Now, we use data loaders and batching."
   ]
  },
  {
   "cell_type": "markdown",
   "metadata": {},
   "source": [
    "<h3>Defining a CNN for Sentiment Analysis</h3>"
   ]
  },
  {
   "cell_type": "markdown",
   "metadata": {},
   "source": [
    "CheckNewsCNN model implementation:"
   ]
  },
  {
   "cell_type": "code",
   "execution_count": 17,
   "metadata": {},
   "outputs": [],
   "source": [
    "import torch\n",
    "import torch.nn as nn\n",
    "import torch.nn.functional as F\n",
    "\n",
    "class CheckNewsCNN(nn.Module):    \n",
    "    def __init__(self, embed_model, embedding_dim, max_features, num_filters=100):\n",
    "        super(CheckNewsCNN, self).__init__()\n",
    "        filter_sizes = [1,2,3,5]\n",
    "        num_filters = 36\n",
    "        n_classes = 6\n",
    "        self.embedding = nn.Embedding(max_features, embedding_dim)\n",
    "        self.embedding.weight = nn.Parameter(torch.tensor(embed_model.vectors, dtype=torch.float32))\n",
    "        self.embedding.weight.requires_grad = False\n",
    "        self.convs1 = nn.ModuleList([nn.Conv2d(1, num_filters, (K, embedding_dim)) for K in filter_sizes])\n",
    "        self.dropout = nn.Dropout(0.1)\n",
    "        self.fc1 = nn.Linear(len(filter_sizes)*num_filters, n_classes)\n",
    "    def forward(self, x):\n",
    "        x = self.embedding(x)  \n",
    "        x = x.unsqueeze(1)  \n",
    "        x = [F.relu(conv(x)).squeeze(3) for conv in self.convs1]\n",
    "        x = [F.max_pool1d(i, i.size(2)).squeeze(2) for i in x]  \n",
    "        x = torch.cat(x, 1)\n",
    "        x = self.dropout(x)  \n",
    "        logit = self.fc1(x)\n",
    "        return logit"
   ]
  },
  {
   "cell_type": "markdown",
   "metadata": {},
   "source": [
    "CheckNewsCNN setup:"
   ]
  },
  {
   "cell_type": "code",
   "execution_count": 18,
   "metadata": {},
   "outputs": [
    {
     "name": "stdout",
     "output_type": "stream",
     "text": [
      "CheckNewsCNN(\n",
      "  (embedding): Embedding(299567, 300)\n",
      "  (convs1): ModuleList(\n",
      "    (0): Conv2d(1, 36, kernel_size=(1, 300), stride=(1, 1))\n",
      "    (1): Conv2d(1, 36, kernel_size=(2, 300), stride=(1, 1))\n",
      "    (2): Conv2d(1, 36, kernel_size=(3, 300), stride=(1, 1))\n",
      "    (3): Conv2d(1, 36, kernel_size=(5, 300), stride=(1, 1))\n",
      "  )\n",
      "  (dropout): Dropout(p=0.1, inplace=False)\n",
      "  (fc1): Linear(in_features=144, out_features=6, bias=True)\n",
      ")\n"
     ]
    }
   ],
   "source": [
    "# store pretrained vocab\n",
    "pretrained_words = []\n",
    "for word in embed.key_to_index:\n",
    "    pretrained_words.append(word)\n",
    "\n",
    "vocab_size =  len(pretrained_words)\n",
    " \n",
    "embedding_dim = len(embed[pretrained_words[0]])\n",
    "num_filters = 100\n",
    "kernel_sizes = [3, 4, 5]\n",
    "\n",
    "model = CheckNewsCNN(embed, embedding_dim, vocab_size, num_filters=100)\n",
    "\n",
    "print(model)"
   ]
  },
  {
   "cell_type": "markdown",
   "metadata": {},
   "source": [
    "Training:"
   ]
  },
  {
   "cell_type": "code",
   "execution_count": 24,
   "metadata": {},
   "outputs": [
    {
     "ename": "TypeError",
     "evalue": "can't convert np.ndarray of type numpy.object_. The only supported types are: float64, float32, float16, complex64, complex128, int64, int32, int16, int8, uint8, and bool.",
     "output_type": "error",
     "traceback": [
      "\u001b[0;31m---------------------------------------------------------------------------\u001b[0m",
      "\u001b[0;31mTypeError\u001b[0m                                 Traceback (most recent call last)",
      "Cell \u001b[0;32mIn[24], line 6\u001b[0m\n\u001b[1;32m      4\u001b[0m train_data \u001b[38;5;241m=\u001b[39m TensorDataset(torch\u001b[38;5;241m.\u001b[39mfrom_numpy(features_train), torch\u001b[38;5;241m.\u001b[39mfrom_numpy(labels_train))\n\u001b[1;32m      5\u001b[0m \u001b[38;5;66;03m# valid_data = TensorDataset(torch.from_numpy(features_valid), torch.from_numpy(labels_valid))\u001b[39;00m\n\u001b[0;32m----> 6\u001b[0m test_data \u001b[38;5;241m=\u001b[39m TensorDataset(torch\u001b[38;5;241m.\u001b[39mfrom_numpy(features_test), \u001b[43mtorch\u001b[49m\u001b[38;5;241;43m.\u001b[39;49m\u001b[43mfrom_numpy\u001b[49m\u001b[43m(\u001b[49m\u001b[43mlabels_test\u001b[49m\u001b[43m)\u001b[49m)\n\u001b[1;32m      8\u001b[0m \u001b[38;5;66;03m# dataloaders\u001b[39;00m\n\u001b[1;32m      9\u001b[0m batch_size \u001b[38;5;241m=\u001b[39m \u001b[38;5;241m50\u001b[39m\n",
      "\u001b[0;31mTypeError\u001b[0m: can't convert np.ndarray of type numpy.object_. The only supported types are: float64, float32, float16, complex64, complex128, int64, int32, int16, int8, uint8, and bool."
     ]
    }
   ],
   "source": [
    "from torch.utils.data import TensorDataset, DataLoader\n",
    "\n",
    "# create Tensor datasets\n",
    "train_data = TensorDataset(torch.from_numpy(features_train), torch.from_numpy(labels_train))\n",
    "# valid_data = TensorDataset(torch.from_numpy(features_valid), torch.from_numpy(labels_valid))\n",
    "test_data = TensorDataset(torch.from_numpy(features_test), torch.from_numpy(labels_test))\n",
    "\n",
    "# dataloaders\n",
    "batch_size = 50\n",
    "\n",
    "# shuffling and batching data\n",
    "train_loader = DataLoader(train_data, shuffle=True, batch_size=batch_size)\n",
    "valid_loader = DataLoader(valid_data, shuffle=True, batch_size=batch_size)\n",
    "test_loader = DataLoader(test_data, shuffle=True, batch_size=batch_size)"
   ]
  },
  {
   "cell_type": "code",
   "execution_count": 21,
   "metadata": {},
   "outputs": [
    {
     "data": {
      "text/plain": [
       "CheckNewsCNN(\n",
       "  (embedding): Embedding(299567, 300)\n",
       "  (convs1): ModuleList(\n",
       "    (0): Conv2d(1, 36, kernel_size=(1, 300), stride=(1, 1))\n",
       "    (1): Conv2d(1, 36, kernel_size=(2, 300), stride=(1, 1))\n",
       "    (2): Conv2d(1, 36, kernel_size=(3, 300), stride=(1, 1))\n",
       "    (3): Conv2d(1, 36, kernel_size=(5, 300), stride=(1, 1))\n",
       "  )\n",
       "  (dropout): Dropout(p=0.1, inplace=False)\n",
       "  (fc1): Linear(in_features=144, out_features=6, bias=True)\n",
       ")"
      ]
     },
     "execution_count": 21,
     "metadata": {},
     "output_type": "execute_result"
    }
   ],
   "source": [
    "def init_weights(module):\n",
    "    if type(module) in (nn.Linear, nn.Conv1d):\n",
    "        nn.init.xavier_uniform_(module.weight)\n",
    "\n",
    "model.apply(init_weights)"
   ]
  },
  {
   "cell_type": "code",
   "execution_count": 23,
   "metadata": {},
   "outputs": [],
   "source": [
    "# loss and optimization functions\n",
    "lr=0.001\n",
    "\n",
    "criterion = nn.CrossEntropyLoss()\n",
    "optimizer = torch.optim.Adam(model.parameters(), lr=lr)\n",
    "\n",
    "def train(net, train_loader, epochs, print_every=100):\n",
    "\n",
    "\n",
    "    counter = 0 # for printing\n",
    "    \n",
    "    # train for some number of epochs\n",
    "    net.train()\n",
    "    for e in range(epochs):\n",
    "\n",
    "        # batch loop\n",
    "        for inputs, labels in train_loader:\n",
    "            counter += 1\n",
    "\n",
    "            \n",
    "\n",
    "            # zero accumulated gradients\n",
    "            net.zero_grad()\n",
    "\n",
    "            # get the output from the model\n",
    "            output = net(inputs)\n",
    "            \n",
    "            # calculate the loss and perform backprop\n",
    "            loss = criterion(output.squeeze(), labels)\n",
    "            loss.backward()\n",
    "            optimizer.step()\n",
    "\n",
    "            # loss stats\n",
    "            if counter % print_every == 0:\n",
    "                # Get validation loss\n",
    "                val_losses = []\n",
    "                net.eval()\n",
    "                for inputs, labels in valid_loader:\n",
    "\n",
    "                    output = net(inputs)\n",
    "                    val_loss = criterion(output.squeeze(), labels)\n",
    "\n",
    "                    val_losses.append(val_loss.item())\n",
    "\n",
    "                net.train()\n",
    "                print(\"Epoch: {}/{}...\".format(e+1, epochs),\n",
    "                      \"Step: {}...\".format(counter),\n",
    "                      \"Loss: {:.6f}...\".format(loss.item()),\n",
    "                      \"Val Loss: {:.6f}\".format(np.mean(val_losses)))"
   ]
  },
  {
   "cell_type": "code",
   "execution_count": 100,
   "metadata": {},
   "outputs": [
    {
     "name": "stdout",
     "output_type": "stream",
     "text": [
      "Epoch: 1/2... Step: 100... Loss: 1.532752... Val Loss: 1.762318\n",
      "Epoch: 1/2... Step: 200... Loss: 1.213054... Val Loss: 1.747848\n",
      "Epoch: 2/2... Step: 300... Loss: 1.186944... Val Loss: 1.750537\n",
      "Epoch: 2/2... Step: 400... Loss: 1.079424... Val Loss: 1.770020\n"
     ]
    }
   ],
   "source": [
    "epochs = 2\n",
    "print_every = 100\n",
    "\n",
    "train(model, train_loader, epochs, print_every=print_every)"
   ]
  },
  {
   "cell_type": "markdown",
   "metadata": {},
   "source": [
    "Testing:"
   ]
  },
  {
   "cell_type": "code",
   "execution_count": 101,
   "metadata": {},
   "outputs": [
    {
     "name": "stdout",
     "output_type": "stream",
     "text": [
      "Test loss: 1.772\n",
      "Test accuracy: 0.261\n"
     ]
    }
   ],
   "source": [
    "def weighted_ordinal_accuracy(y_true, y_pred, weight=0.5):\n",
    "    '''\n",
    "    Weight determines how 'correct' an adjacent prediciton is. \n",
    "    To include predictions that were off by 2, change mask definition\n",
    "    '''\n",
    "    y_true = np.array(y_true)\n",
    "    y_pred = np.array(y_pred)\n",
    "    \n",
    "    abs_diff = np.abs(y_true - y_pred)\n",
    "    mask = (abs_diff == 1) * weight\n",
    "    weighted_diff = np.dot(abs_diff, mask)\n",
    "    accuracy = 1 - (weighted_diff / len(y_true))\n",
    "    \n",
    "    return accuracy\n",
    "\n",
    "# Get test data loss and accuracy\n",
    "ground_truth = []\n",
    "predictions = []\n",
    "test_losses = [] # track loss\n",
    "num_correct = 0\n",
    "\n",
    "\n",
    "model.eval()\n",
    "# iterate over test data\n",
    "for inputs, labels in test_loader:\n",
    "\n",
    "    # get predicted outputs\n",
    "    output = model(inputs)\n",
    "    \n",
    "    # calculate loss\n",
    "    test_loss = criterion(output.squeeze(), labels)\n",
    "    test_losses.append(test_loss.item())\n",
    "    \n",
    "    # convert output probabilities to predicted class\n",
    "    pred = output.argmax(axis=1)\n",
    "    \n",
    "    correct_tensor = pred.eq(labels.view_as(pred))\n",
    "    correct = np.squeeze(correct_tensor.numpy())\n",
    "    num_correct += np.sum(correct)\n",
    "\n",
    "    ground_truth.append(labels)\n",
    "    predictions.append(labels)\n",
    "    \n",
    "\n",
    "\n",
    "# -- stats! -- ##\n",
    "# avg test loss\n",
    "print(\"Test loss: {:.3f}\".format(np.mean(test_losses)))\n",
    "\n",
    "# accuracy over all test data\n",
    "test_acc = num_correct/len(test_loader.dataset)\n",
    "print(\"Test accuracy: {:.3f}\".format(test_acc))\n",
    "\n",
    "# wighted ordinal accuracy\n",
    "ordinal_acc = weighted_ordinal_accuracy(ground_truth, predictions, 0.5)"
   ]
  },
  {
   "cell_type": "markdown",
   "metadata": {},
   "source": [
    "The testing accuracy is pretty low, but there are 6 labels. Maybe I need to add more layers or train for more/less epochs."
   ]
  },
  {
   "cell_type": "markdown",
   "metadata": {},
   "source": []
  }
 ],
 "metadata": {
  "kernelspec": {
   "display_name": "base",
   "language": "python",
   "name": "python3"
  },
  "language_info": {
   "codemirror_mode": {
    "name": "ipython",
    "version": 3
   },
   "file_extension": ".py",
   "mimetype": "text/x-python",
   "name": "python",
   "nbconvert_exporter": "python",
   "pygments_lexer": "ipython3",
   "version": "3.10.9"
  }
 },
 "nbformat": 4,
 "nbformat_minor": 2
}
