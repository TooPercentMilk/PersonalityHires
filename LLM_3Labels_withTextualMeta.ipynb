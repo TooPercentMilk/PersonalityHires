{
  "nbformat": 4,
  "nbformat_minor": 0,
  "metadata": {
    "colab": {
      "provenance": [],
      "gpuType": "T4"
    },
    "kernelspec": {
      "name": "python3",
      "display_name": "Python 3"
    },
    "language_info": {
      "name": "python"
    },
    "accelerator": "GPU"
  },
  "cells": [
    {
      "cell_type": "code",
      "source": [
        "!pip install datasets\n",
        "!pip install transformers"
      ],
      "metadata": {
        "colab": {
          "base_uri": "https://localhost:8080/"
        },
        "id": "VU-vZf75C-6o",
        "outputId": "087529a1-ba9d-40bc-d35b-82303a3a8e47"
      },
      "execution_count": null,
      "outputs": [
        {
          "output_type": "stream",
          "name": "stdout",
          "text": [
            "Requirement already satisfied: datasets in /usr/local/lib/python3.10/dist-packages (2.18.0)\n",
            "Requirement already satisfied: filelock in /usr/local/lib/python3.10/dist-packages (from datasets) (3.13.4)\n",
            "Requirement already satisfied: numpy>=1.17 in /usr/local/lib/python3.10/dist-packages (from datasets) (1.25.2)\n",
            "Requirement already satisfied: pyarrow>=12.0.0 in /usr/local/lib/python3.10/dist-packages (from datasets) (14.0.2)\n",
            "Requirement already satisfied: pyarrow-hotfix in /usr/local/lib/python3.10/dist-packages (from datasets) (0.6)\n",
            "Requirement already satisfied: dill<0.3.9,>=0.3.0 in /usr/local/lib/python3.10/dist-packages (from datasets) (0.3.8)\n",
            "Requirement already satisfied: pandas in /usr/local/lib/python3.10/dist-packages (from datasets) (2.0.3)\n",
            "Requirement already satisfied: requests>=2.19.0 in /usr/local/lib/python3.10/dist-packages (from datasets) (2.31.0)\n",
            "Requirement already satisfied: tqdm>=4.62.1 in /usr/local/lib/python3.10/dist-packages (from datasets) (4.66.2)\n",
            "Requirement already satisfied: xxhash in /usr/local/lib/python3.10/dist-packages (from datasets) (3.4.1)\n",
            "Requirement already satisfied: multiprocess in /usr/local/lib/python3.10/dist-packages (from datasets) (0.70.16)\n",
            "Requirement already satisfied: fsspec[http]<=2024.2.0,>=2023.1.0 in /usr/local/lib/python3.10/dist-packages (from datasets) (2023.6.0)\n",
            "Requirement already satisfied: aiohttp in /usr/local/lib/python3.10/dist-packages (from datasets) (3.9.3)\n",
            "Requirement already satisfied: huggingface-hub>=0.19.4 in /usr/local/lib/python3.10/dist-packages (from datasets) (0.20.3)\n",
            "Requirement already satisfied: packaging in /usr/local/lib/python3.10/dist-packages (from datasets) (24.0)\n",
            "Requirement already satisfied: pyyaml>=5.1 in /usr/local/lib/python3.10/dist-packages (from datasets) (6.0.1)\n",
            "Requirement already satisfied: aiosignal>=1.1.2 in /usr/local/lib/python3.10/dist-packages (from aiohttp->datasets) (1.3.1)\n",
            "Requirement already satisfied: attrs>=17.3.0 in /usr/local/lib/python3.10/dist-packages (from aiohttp->datasets) (23.2.0)\n",
            "Requirement already satisfied: frozenlist>=1.1.1 in /usr/local/lib/python3.10/dist-packages (from aiohttp->datasets) (1.4.1)\n",
            "Requirement already satisfied: multidict<7.0,>=4.5 in /usr/local/lib/python3.10/dist-packages (from aiohttp->datasets) (6.0.5)\n",
            "Requirement already satisfied: yarl<2.0,>=1.0 in /usr/local/lib/python3.10/dist-packages (from aiohttp->datasets) (1.9.4)\n",
            "Requirement already satisfied: async-timeout<5.0,>=4.0 in /usr/local/lib/python3.10/dist-packages (from aiohttp->datasets) (4.0.3)\n",
            "Requirement already satisfied: typing-extensions>=3.7.4.3 in /usr/local/lib/python3.10/dist-packages (from huggingface-hub>=0.19.4->datasets) (4.11.0)\n",
            "Requirement already satisfied: charset-normalizer<4,>=2 in /usr/local/lib/python3.10/dist-packages (from requests>=2.19.0->datasets) (3.3.2)\n",
            "Requirement already satisfied: idna<4,>=2.5 in /usr/local/lib/python3.10/dist-packages (from requests>=2.19.0->datasets) (3.6)\n",
            "Requirement already satisfied: urllib3<3,>=1.21.1 in /usr/local/lib/python3.10/dist-packages (from requests>=2.19.0->datasets) (2.0.7)\n",
            "Requirement already satisfied: certifi>=2017.4.17 in /usr/local/lib/python3.10/dist-packages (from requests>=2.19.0->datasets) (2024.2.2)\n",
            "Requirement already satisfied: python-dateutil>=2.8.2 in /usr/local/lib/python3.10/dist-packages (from pandas->datasets) (2.8.2)\n",
            "Requirement already satisfied: pytz>=2020.1 in /usr/local/lib/python3.10/dist-packages (from pandas->datasets) (2023.4)\n",
            "Requirement already satisfied: tzdata>=2022.1 in /usr/local/lib/python3.10/dist-packages (from pandas->datasets) (2024.1)\n",
            "Requirement already satisfied: six>=1.5 in /usr/local/lib/python3.10/dist-packages (from python-dateutil>=2.8.2->pandas->datasets) (1.16.0)\n",
            "Requirement already satisfied: transformers in /usr/local/lib/python3.10/dist-packages (4.38.2)\n",
            "Requirement already satisfied: filelock in /usr/local/lib/python3.10/dist-packages (from transformers) (3.13.4)\n",
            "Requirement already satisfied: huggingface-hub<1.0,>=0.19.3 in /usr/local/lib/python3.10/dist-packages (from transformers) (0.20.3)\n",
            "Requirement already satisfied: numpy>=1.17 in /usr/local/lib/python3.10/dist-packages (from transformers) (1.25.2)\n",
            "Requirement already satisfied: packaging>=20.0 in /usr/local/lib/python3.10/dist-packages (from transformers) (24.0)\n",
            "Requirement already satisfied: pyyaml>=5.1 in /usr/local/lib/python3.10/dist-packages (from transformers) (6.0.1)\n",
            "Requirement already satisfied: regex!=2019.12.17 in /usr/local/lib/python3.10/dist-packages (from transformers) (2023.12.25)\n",
            "Requirement already satisfied: requests in /usr/local/lib/python3.10/dist-packages (from transformers) (2.31.0)\n",
            "Requirement already satisfied: tokenizers<0.19,>=0.14 in /usr/local/lib/python3.10/dist-packages (from transformers) (0.15.2)\n",
            "Requirement already satisfied: safetensors>=0.4.1 in /usr/local/lib/python3.10/dist-packages (from transformers) (0.4.2)\n",
            "Requirement already satisfied: tqdm>=4.27 in /usr/local/lib/python3.10/dist-packages (from transformers) (4.66.2)\n",
            "Requirement already satisfied: fsspec>=2023.5.0 in /usr/local/lib/python3.10/dist-packages (from huggingface-hub<1.0,>=0.19.3->transformers) (2023.6.0)\n",
            "Requirement already satisfied: typing-extensions>=3.7.4.3 in /usr/local/lib/python3.10/dist-packages (from huggingface-hub<1.0,>=0.19.3->transformers) (4.11.0)\n",
            "Requirement already satisfied: charset-normalizer<4,>=2 in /usr/local/lib/python3.10/dist-packages (from requests->transformers) (3.3.2)\n",
            "Requirement already satisfied: idna<4,>=2.5 in /usr/local/lib/python3.10/dist-packages (from requests->transformers) (3.6)\n",
            "Requirement already satisfied: urllib3<3,>=1.21.1 in /usr/local/lib/python3.10/dist-packages (from requests->transformers) (2.0.7)\n",
            "Requirement already satisfied: certifi>=2017.4.17 in /usr/local/lib/python3.10/dist-packages (from requests->transformers) (2024.2.2)\n"
          ]
        }
      ]
    },
    {
      "cell_type": "code",
      "source": [
        "import torch\n",
        "import numpy as np\n",
        "import pandas as pd\n",
        "import torch.nn as nn\n",
        "import torch.nn.functional as F\n",
        "from torch.utils.data import Dataset, DataLoader, TensorDataset\n",
        "from transformers import AutoModel, AdamW\n",
        "from datasets import load_dataset\n",
        "from tqdm import tqdm\n",
        "from transformers import pipeline, DistilBertTokenizer, DistilBertModel\n",
        "import matplotlib.pyplot as plt\n",
        "\n",
        "num_classes = 3\n",
        "is_textual_metadata = True\n"
      ],
      "metadata": {
        "id": "SsTS99DgC4Kv"
      },
      "execution_count": null,
      "outputs": []
    },
    {
      "cell_type": "code",
      "execution_count": null,
      "metadata": {
        "id": "X0zcNN0F4jqT"
      },
      "outputs": [],
      "source": [
        "\n",
        "\n",
        "class OrdinalDistilBERT(nn.Module):\n",
        "    def __init__(self, num_classes = 6, pretrained_model_name = 'distilbert-base-uncased'):\n",
        "        super(OrdinalDistilBERT, self).__init__()\n",
        "\n",
        "        self.distilbert = DistilBertModel.from_pretrained(pretrained_model_name)\n",
        "        self.pre_classifier = torch.nn.Linear(768, 768)\n",
        "        self.activation = torch.nn.Tanh()\n",
        "        self.dropout = torch.nn.Dropout(0.1)\n",
        "        self.classifier = torch.nn.Linear(768, num_classes)\n",
        "\n",
        "        \"\"\"\n",
        "        self.numerical_network = nn.Sequential(\n",
        "            nn.Linear(num_numerical_features + 1, 16),\n",
        "            nn.ReLU(),\n",
        "            nn.Linear(16, 16),\n",
        "            nn.ReLU()\n",
        "        )\n",
        "        \"\"\"\n",
        "\n",
        "\n",
        "    def forward(self, input_ids, attention_mask):\n",
        "        distilbert_output = self.distilbert(input_ids = input_ids, attention_mask = attention_mask)\n",
        "        hidden_state = distilbert_output[0]\n",
        "        pooled_output = hidden_state[:, 0]\n",
        "        pre_classifier_activated_output = self.activation((self.pre_classifier(pooled_output)))\n",
        "        dropout_output = self.dropout(pre_classifier_activated_output)\n",
        "        logits = self.classifier(dropout_output)\n",
        "\n",
        "        probs = F.softmax(logits, dim = 1)\n",
        "\n",
        "        cum_probs = torch.cumsum(probs, dim = 1)\n",
        "\n",
        "        return cum_probs\n",
        "\n"
      ]
    },
    {
      "cell_type": "code",
      "source": [
        "model = OrdinalDistilBERT(num_classes = num_classes)\n",
        "device = torch.device('cuda' if torch.cuda.is_available() else 'cpu')\n",
        "model.to(device)"
      ],
      "metadata": {
        "colab": {
          "base_uri": "https://localhost:8080/"
        },
        "id": "cVfBh-8LIh3U",
        "outputId": "2ac2ff43-5d34-46b2-8b7b-475c797f3c0a"
      },
      "execution_count": null,
      "outputs": [
        {
          "output_type": "execute_result",
          "data": {
            "text/plain": [
              "OrdinalDistilBERT(\n",
              "  (distilbert): DistilBertModel(\n",
              "    (embeddings): Embeddings(\n",
              "      (word_embeddings): Embedding(30522, 768, padding_idx=0)\n",
              "      (position_embeddings): Embedding(512, 768)\n",
              "      (LayerNorm): LayerNorm((768,), eps=1e-12, elementwise_affine=True)\n",
              "      (dropout): Dropout(p=0.1, inplace=False)\n",
              "    )\n",
              "    (transformer): Transformer(\n",
              "      (layer): ModuleList(\n",
              "        (0-5): 6 x TransformerBlock(\n",
              "          (attention): MultiHeadSelfAttention(\n",
              "            (dropout): Dropout(p=0.1, inplace=False)\n",
              "            (q_lin): Linear(in_features=768, out_features=768, bias=True)\n",
              "            (k_lin): Linear(in_features=768, out_features=768, bias=True)\n",
              "            (v_lin): Linear(in_features=768, out_features=768, bias=True)\n",
              "            (out_lin): Linear(in_features=768, out_features=768, bias=True)\n",
              "          )\n",
              "          (sa_layer_norm): LayerNorm((768,), eps=1e-12, elementwise_affine=True)\n",
              "          (ffn): FFN(\n",
              "            (dropout): Dropout(p=0.1, inplace=False)\n",
              "            (lin1): Linear(in_features=768, out_features=3072, bias=True)\n",
              "            (lin2): Linear(in_features=3072, out_features=768, bias=True)\n",
              "            (activation): GELUActivation()\n",
              "          )\n",
              "          (output_layer_norm): LayerNorm((768,), eps=1e-12, elementwise_affine=True)\n",
              "        )\n",
              "      )\n",
              "    )\n",
              "  )\n",
              "  (pre_classifier): Linear(in_features=768, out_features=768, bias=True)\n",
              "  (activation): Tanh()\n",
              "  (dropout): Dropout(p=0.1, inplace=False)\n",
              "  (classifier): Linear(in_features=768, out_features=3, bias=True)\n",
              ")"
            ]
          },
          "metadata": {},
          "execution_count": 32
        }
      ]
    },
    {
      "cell_type": "code",
      "source": [
        "dataset = load_dataset(\"liar\")\n",
        "\n",
        "tokenizer = DistilBertTokenizer.from_pretrained('distilbert-base-uncased')"
      ],
      "metadata": {
        "id": "OKc4OpaFJIky"
      },
      "execution_count": null,
      "outputs": []
    },
    {
      "cell_type": "code",
      "source": [
        "def preprocess_data(examples, num_classes, is_textual_metadata):\n",
        "\n",
        "\n",
        "\n",
        "    def label_mapping(label_idx, num_classes):\n",
        "\n",
        "      actual_idx = [1, 3, 4, 5, 2, 0]\n",
        "\n",
        "      result = [float(0)] * num_classes\n",
        "\n",
        "      i = (actual_idx[label_idx]) // (6 // num_classes)\n",
        "\n",
        "      for idx in range(i, num_classes):\n",
        "        result[idx] = float(1)\n",
        "\n",
        "      return result\n",
        "\n",
        "\n",
        "    labels = list(map(lambda elem: label_mapping(elem, num_classes), examples['label']))\n",
        "\n",
        "    combined_text = [statement + \" This is what \" + speaker + \", a \" + party_affiliation + \", said on \" + subject + \".\"  for statement, speaker, subject, party_affiliation in zip(examples['statement'], examples['speaker'], examples['subject'], examples['party_affiliation'])]\n",
        "\n",
        "    text_to_tokenize = combined_text if is_textual_metadata else examples['statement']\n",
        "\n",
        "    tokenized = tokenizer(text_to_tokenize, padding= True, truncation=True, max_length=128, return_tensors = 'pt')\n",
        "\n",
        "\n",
        "    labels = torch.tensor(labels)\n",
        "\n",
        "    return tokenized, labels\n",
        "\n",
        "def create_dataset(dataset_split, num_classes = 6, is_textual_metadata = True):\n",
        "    tokenized, labels = preprocess_data(dataset_split, num_classes, is_textual_metadata)\n",
        "    dataset = TensorDataset(\n",
        "        torch.tensor(tokenized['input_ids']),\n",
        "        torch.tensor(tokenized['attention_mask']),\n",
        "        torch.tensor(labels)\n",
        "    )\n",
        "    return dataset"
      ],
      "metadata": {
        "id": "Dr7ZebBBKCzK"
      },
      "execution_count": null,
      "outputs": []
    },
    {
      "cell_type": "code",
      "source": [
        "dataset = load_dataset(\"liar\")\n",
        "\n",
        "train_dataset = create_dataset(dataset['train'], num_classes = num_classes, is_textual_metadata = is_textual_metadata)\n",
        "val_dataset = create_dataset(dataset['validation'], num_classes = num_classes, is_textual_metadata = is_textual_metadata)\n",
        "test_dataset = create_dataset(dataset['test'], num_classes = num_classes, is_textual_metadata = is_textual_metadata)\n",
        "\n",
        "train_batch_size = 16\n",
        "train_loader = DataLoader(train_dataset, batch_size = train_batch_size, shuffle = True)\n",
        "val_loader = DataLoader(val_dataset, batch_size = 16)"
      ],
      "metadata": {
        "colab": {
          "base_uri": "https://localhost:8080/"
        },
        "id": "mbOS42qQKEi6",
        "outputId": "8aa762a0-06d5-4456-e98a-f8c1f37dfa8f"
      },
      "execution_count": null,
      "outputs": [
        {
          "output_type": "stream",
          "name": "stderr",
          "text": [
            "<ipython-input-34-5f7c1057acbf>:35: UserWarning: To copy construct from a tensor, it is recommended to use sourceTensor.clone().detach() or sourceTensor.clone().detach().requires_grad_(True), rather than torch.tensor(sourceTensor).\n",
            "  torch.tensor(tokenized['input_ids']),\n",
            "<ipython-input-34-5f7c1057acbf>:36: UserWarning: To copy construct from a tensor, it is recommended to use sourceTensor.clone().detach() or sourceTensor.clone().detach().requires_grad_(True), rather than torch.tensor(sourceTensor).\n",
            "  torch.tensor(tokenized['attention_mask']),\n",
            "<ipython-input-34-5f7c1057acbf>:37: UserWarning: To copy construct from a tensor, it is recommended to use sourceTensor.clone().detach() or sourceTensor.clone().detach().requires_grad_(True), rather than torch.tensor(sourceTensor).\n",
            "  torch.tensor(labels)\n"
          ]
        }
      ]
    },
    {
      "cell_type": "code",
      "source": [
        "class CustomBCELoss(nn.Module):\n",
        "    def __init__(self):\n",
        "        super(CustomBCELoss, self).__init__()\n",
        "\n",
        "    def forward(self, outputs, targets):\n",
        "        outputs = outputs.clamp(min= 0.0001, max= 0.9999)\n",
        "        loss = -1 * (targets * torch.log(outputs) + (1 - targets) * torch.log(1 - outputs))\n",
        "        return loss.mean()\n",
        "\n",
        "loss_fn = CustomBCELoss()"
      ],
      "metadata": {
        "id": "tH8VdMW6LfV5"
      },
      "execution_count": null,
      "outputs": []
    },
    {
      "cell_type": "code",
      "source": [
        "learning_rate = 5e-5\n",
        "optimizer = AdamW(model.parameters(), lr= learning_rate, weight_decay = 0.01)\n",
        "schedule = torch.optim.lr_scheduler.StepLR(optimizer, 1, gamma = 0.2)\n"
      ],
      "metadata": {
        "id": "faPa-mZnKb7Z"
      },
      "execution_count": null,
      "outputs": []
    },
    {
      "cell_type": "code",
      "source": [
        "num_epochs = 2\n",
        "\n",
        "loss_values = []\n",
        "\n",
        "\n",
        "loss = None\n",
        "model.train()\n",
        "for epoch in range(num_epochs):\n",
        "    running_loss = 0\n",
        "    for batch in tqdm(train_loader):\n",
        "        input_ids, attention_mask,  labels = batch\n",
        "        input_ids, attention_mask,  labels = input_ids.to(device), attention_mask.to(device), labels.to(device)\n",
        "\n",
        "        outputs = model(input_ids, attention_mask)\n",
        "\n",
        "        optimizer.zero_grad()\n",
        "\n",
        "        loss = loss_fn(outputs, labels)\n",
        "        running_loss += loss.item()\n",
        "\n",
        "        loss.backward()\n",
        "        optimizer.step()\n",
        "\n",
        "    schedule.step()\n",
        "    epoch_loss = running_loss / len(train_loader)\n",
        "    loss_values.append(epoch_loss)\n",
        "\n",
        "\n",
        "\n",
        "\n",
        "\n",
        "    print(f\"Epoch {epoch + 1}, Loss: {epoch_loss}\")\n",
        "\n",
        "if num_epochs >= 2:\n",
        "  plt.plot(range(1, num_epochs + 1), loss_values)\n",
        "  plt.xlabel('Epoch')\n",
        "  plt.ylabel('Loss')\n",
        "  plt.title('Training Loss')\n",
        "  plt.show()"
      ],
      "metadata": {
        "colab": {
          "base_uri": "https://localhost:8080/",
          "height": 541
        },
        "id": "eQ8cxDb4KptE",
        "outputId": "eb930af0-7ce3-47f9-ca4a-788e49dcf409"
      },
      "execution_count": null,
      "outputs": [
        {
          "output_type": "stream",
          "name": "stderr",
          "text": [
            "100%|██████████| 642/642 [01:46<00:00,  6.04it/s]\n"
          ]
        },
        {
          "output_type": "stream",
          "name": "stdout",
          "text": [
            "Epoch 1, Loss: 0.39956036548933876\n"
          ]
        },
        {
          "output_type": "stream",
          "name": "stderr",
          "text": [
            "100%|██████████| 642/642 [01:45<00:00,  6.06it/s]\n"
          ]
        },
        {
          "output_type": "stream",
          "name": "stdout",
          "text": [
            "Epoch 2, Loss: 0.3485930826387301\n"
          ]
        },
        {
          "output_type": "display_data",
          "data": {
            "text/plain": [
              "<Figure size 640x480 with 1 Axes>"
            ],
            "image/png": "[encoded data removed]"
          },
          "metadata": {}
        }
      ]
    },
    {
      "cell_type": "code",
      "source": [
        "#model.load_state_dict(torch.load('/content/drive/MyDrive/ordinal_distilbert_weights.pth'))\n",
        "#print(loss.item())\n",
        "# 30 +"
      ],
      "metadata": {
        "id": "P95x7yQEfe3m"
      },
      "execution_count": null,
      "outputs": []
    },
    {
      "cell_type": "code",
      "source": [
        "import numpy as np\n",
        "\n",
        "def get_probs(cums):\n",
        "    result = [cums[0]]\n",
        "    result.extend([cums[i] - cums[i - 1] for i in range(1, len(cums))])\n",
        "    return result\n",
        "\n",
        "def evaluate_model(model, testing_loader):\n",
        "    model.eval()\n",
        "    all_outputs, all_targets = [], []\n",
        "\n",
        "    with torch.no_grad():\n",
        "        for batch in testing_loader:\n",
        "            input_ids, attention_mask, targets = batch\n",
        "            input_ids, attention_mask, targets = input_ids.to(device), attention_mask.to(device), targets.to(device)\n",
        "\n",
        "            outputs = model(input_ids, attention_mask)\n",
        "\n",
        "            output_probs = [get_probs(output) for output in outputs]\n",
        "            target_probs = [get_probs(target) for target in targets]\n",
        "\n",
        "            output_vals = torch.argmax(torch.tensor(output_probs), dim = 1)\n",
        "            target_vals = torch.argmax(torch.tensor(target_probs), dim = 1)\n",
        "            all_outputs.append(output_vals)\n",
        "            all_targets.append(target_vals)\n",
        "\n",
        "    all_outputs = torch.cat(all_outputs, dim = 0)\n",
        "    all_targets = torch.cat(all_targets, dim = 0)\n",
        "\n",
        "    accuracy = (all_outputs == all_targets).float().mean().item()\n",
        "\n",
        "    return all_outputs.float(), all_targets.float(), accuracy\n",
        "\n",
        "def weighted_ordinal_accuracy(y_true, y_pred, weight=0.5):\n",
        "\n",
        "    y_true = np.array(y_true)\n",
        "    y_pred = np.array(y_pred)\n",
        "\n",
        "    abs_diff = np.abs(y_true - y_pred)\n",
        "    mask = (abs_diff == 1) * weight\n",
        "    weighted_diff = np.dot(abs_diff, mask)\n",
        "    accuracy = (weighted_diff + np.sum(y_true == y_pred)) / len(y_true)\n",
        "    return accuracy\n",
        "\n",
        "def mean_absolute_error(y_true, y_pred):\n",
        "    return torch.mean(torch.abs(y_true - y_pred)).item()\n",
        "\n",
        "def within_one_accuracy(y_true, y_pred):\n",
        "    return torch.mean((torch.abs(y_true - y_pred) <= 1).float()).item()\n",
        "\n",
        "\n",
        "\n",
        "training_accuracy = evaluate_model(model, train_loader)[2]\n",
        "y_true, y_pred, accuracy = evaluate_model(model, val_loader)\n",
        "ordinal_accuracy = weighted_ordinal_accuracy(y_true, y_pred)\n",
        "mean_absolute_error = mean_absolute_error(y_true, y_pred)\n",
        "within_one_accuracy = within_one_accuracy(y_true, y_pred)\n",
        "\n",
        "print(\"Training Accuracy\", training_accuracy)\n",
        "print(\"Validation Accuracy:\", accuracy)\n",
        "print('Validation Ordinal Accuracy:', ordinal_accuracy)\n",
        "print('Validation Mean Absolute Error:', mean_absolute_error)\n",
        "print('Within 1 Accuracy:', within_one_accuracy)\n",
        "\n",
        "test_loader = DataLoader(test_dataset, batch_size = 16)\n",
        "y_true, y_pred, test_accuracy = evaluate_model(model, test_loader)\n",
        "test_ordinal_accuracy = weighted_ordinal_accuracy(y_true, y_pred)\n",
        "\n",
        "print(\"Testing Accuracy:\", test_accuracy)\n",
        "print('Testing Ordinal Accuracy:', test_ordinal_accuracy)"
      ],
      "metadata": {
        "colab": {
          "base_uri": "https://localhost:8080/"
        },
        "id": "SbUwooVke9SH",
        "outputId": "41579d6c-760b-4ef2-f081-b6c4168591f7"
      },
      "execution_count": null,
      "outputs": [
        {
          "output_type": "stream",
          "name": "stdout",
          "text": [
            "Training Accuracy 0.6210926175117493\n",
            "Validation Accuracy: 0.48676013946533203\n",
            "Validation Ordinal Accuracy: 0.6904205607476636\n",
            "Validation Mean Absolute Error: 0.6191588640213013\n",
            "Within 1 Accuracy: 0.8940809965133667\n",
            "Testing Accuracy: 0.4988308548927307\n",
            "Testing Ordinal Accuracy: 0.6886204208885425\n"
          ]
        }
      ]
    }
  ]
}