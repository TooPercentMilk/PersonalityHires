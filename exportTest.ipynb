{
 "cells": [
  {
   "cell_type": "markdown",
   "metadata": {},
   "source": [
    "<h2>CNN and RNN Implementation Using Keras</h2>"
   ]
  },
  {
   "cell_type": "markdown",
   "metadata": {},
   "source": [
    "This file contains the implementation of a CNN with RNN layers for multiclass sentiment analysis. I will be using Bidirectional LSTM layers within the CNN in order to retain context and connections between words in a sentence. The CNN layers process and extract features from the data."
   ]
  },
  {
   "cell_type": "markdown",
   "metadata": {},
   "source": [
    "<h3>Data Preprocessing</h3>"
   ]
  },
  {
   "cell_type": "markdown",
   "metadata": {},
   "source": [
    "First, the data must be processed. I will be combining all of the statements and their corresponding metadata into one column."
   ]
  },
  {
   "cell_type": "markdown",
   "metadata": {},
   "source": [
    "<h2>Model with 3 Labels</h2>"
   ]
  },
  {
   "cell_type": "markdown",
   "metadata": {},
   "source": [
    "Let's try the model with only 3 labels."
   ]
  },
  {
   "cell_type": "markdown",
   "metadata": {},
   "source": [
    "<h3>Data Preprocessing</h3>"
   ]
  },
  {
   "cell_type": "code",
   "execution_count": 2,
   "metadata": {},
   "outputs": [
    {
     "name": "stderr",
     "output_type": "stream",
     "text": [
      "2024-04-10 20:57:13.775226: I tensorflow/core/util/port.cc:113] oneDNN custom operations are on. You may see slightly different numerical results due to floating-point round-off errors from different computation orders. To turn them off, set the environment variable `TF_ENABLE_ONEDNN_OPTS=0`.\n",
      "2024-04-10 20:57:13.887228: E external/local_xla/xla/stream_executor/cuda/cuda_dnn.cc:9261] Unable to register cuDNN factory: Attempting to register factory for plugin cuDNN when one has already been registered\n",
      "2024-04-10 20:57:13.887311: E external/local_xla/xla/stream_executor/cuda/cuda_fft.cc:607] Unable to register cuFFT factory: Attempting to register factory for plugin cuFFT when one has already been registered\n",
      "2024-04-10 20:57:13.897169: E external/local_xla/xla/stream_executor/cuda/cuda_blas.cc:1515] Unable to register cuBLAS factory: Attempting to register factory for plugin cuBLAS when one has already been registered\n",
      "2024-04-10 20:57:13.940264: I tensorflow/core/platform/cpu_feature_guard.cc:182] This TensorFlow binary is optimized to use available CPU instructions in performance-critical operations.\n",
      "To enable the following instructions: AVX2 AVX512F AVX512_VNNI FMA, in other operations, rebuild TensorFlow with the appropriate compiler flags.\n",
      "2024-04-10 20:57:15.049673: W tensorflow/compiler/tf2tensorrt/utils/py_utils.cc:38] TF-TRT Warning: Could not find TensorRT\n"
     ]
    }
   ],
   "source": [
    "import pandas as pd\n",
    "import numpy as np\n",
    "import nltk\n",
    "import re\n",
    "from tqdm import tqdm\n",
    "import os\n",
    "from tensorflow import keras\n",
    "\n",
    "numeric_labels = {'pants-fire':0, 'false':1, 'barely-true':2, 'half-true':3, 'mostly-true':4, 'true':5}\n",
    "path = os.getcwd() + '/data'\n",
    "headers = ['id', 'label', 'statement', 'subject', 'speaker', 'job_title', 'state_info', 'affiliation', 'barely_true',\n",
    "           'false', 'half_true', 'mostly_true', 'pants-fire', 'context']\n",
    "\n",
    "\n",
    "# lowercase, remove punctuation, remove numbers\n",
    "def clean_text(text):\n",
    "    if not isinstance(text, str):\n",
    "        return text\n",
    "    clean_text = text.lower()\n",
    "    clean_text = re.sub(r'[^\\w\\s]', '', clean_text)\n",
    "    return clean_text\n",
    "\n",
    "# convert text labels to numbers\n",
    "def clean_labels(label):\n",
    "    return numeric_labels[label]\n",
    "\n",
    "def shrink_label(label):\n",
    "\n",
    "    if label >= 4:\n",
    "        return 2\n",
    "    elif label >= 2 and label < 4:\n",
    "        return 1\n",
    "    else:\n",
    "        return 0\n",
    "\n",
    "\n",
    "train = pd.read_csv(path + '/train.tsv', sep='\\t', header=None, names=headers)\n",
    "valid = pd.read_csv(path + '/valid.tsv', sep='\\t', header=None, names=headers)\n",
    "test = pd.read_csv(path + '/test.tsv', sep='\\t', header=None, names=headers)\n",
    "\n",
    "train['statement'] = train['statement'].apply(clean_text)\n",
    "valid['statement'] = valid['statement'].apply(clean_text)\n",
    "test['statement'] = test['statement'].apply(clean_text)\n",
    "train['label'] = train['label'].apply(clean_labels)\n",
    "train['label'] = train['label'].apply(shrink_label)\n",
    "valid['label'] = valid['label'].apply(clean_labels)\n",
    "valid['label'] = valid['label'].apply(shrink_label)\n",
    "test['label'] = test['label'].apply(clean_labels)\n",
    "test['label'] = test['label'].apply(shrink_label)\n",
    "\n",
    "tr_data = train[['label', 'statement']]\n",
    "tr_data = tr_data.dropna()\n",
    "train_statements = tr_data['statement']\n",
    "train_labels = tr_data['label']\n",
    "\n",
    "va_data = valid[['label', 'statement']]\n",
    "va_data = va_data.dropna()\n",
    "valid_statements = va_data['statement']\n",
    "valid_labels = va_data['label']\n",
    "\n",
    "te_data = test[['label', 'statement']]\n",
    "te_data = te_data.dropna()\n",
    "test_statements = te_data['statement']\n",
    "test_labels = te_data['label']"
   ]
  },
  {
   "cell_type": "markdown",
   "metadata": {},
   "source": [
    "<h3>Tokenizing, Padding, Model Setup, and Training</h3>"
   ]
  },
  {
   "cell_type": "code",
   "execution_count": 3,
   "metadata": {},
   "outputs": [
    {
     "name": "stdout",
     "output_type": "stream",
     "text": [
      "14959\n",
      "3073\n",
      "Epoch 1/2\n",
      "160/160 [==============================] - 530s 3s/step - loss: 1.2253 - accuracy: 0.3837 - val_loss: 1.0775 - val_accuracy: 0.4408\n",
      "Epoch 2/2\n",
      "160/160 [==============================] - 537s 3s/step - loss: 1.0035 - accuracy: 0.5123 - val_loss: 1.0910 - val_accuracy: 0.4283\n"
     ]
    }
   ],
   "source": [
    "from keras.layers import Conv1D, MaxPooling1D\n",
    "from keras.layers import Bidirectional, LSTM\n",
    "# combine the dataframes into a single dataframe\n",
    "combined = pd.concat([train_statements, test_statements, valid_statements], ignore_index=True)\n",
    "\n",
    "# create a set that holds all the unique words in combined data frame\n",
    "results = set()\n",
    "combined.str.split().apply(results.update)\n",
    "\n",
    "# len of set is the number of unique words\n",
    "num_unique_words = len(results)\n",
    "print(num_unique_words)\n",
    "# max length of statements\n",
    "max_len = max(train_statements.str.len().max(), valid_statements.str.len().max(), test_statements.str.len().max())\n",
    "print(max_len)\n",
    "\n",
    "# create tokenizer and fit it to train data\n",
    "tokenizer = keras.preprocessing.text.Tokenizer(num_words=num_unique_words)\n",
    "tokenizer.fit_on_texts(train_statements)\n",
    "\n",
    "# create padded matrices for training, validation, and testing sets\n",
    "train_sequences = tokenizer.texts_to_sequences(train_statements)\n",
    "train_padded = keras.preprocessing.sequence.pad_sequences(train_sequences, maxlen=max_len, padding='post', truncating='post')\n",
    "\n",
    "valid_sequences = tokenizer.texts_to_sequences(valid_statements)\n",
    "valid_padded = keras.preprocessing.sequence.pad_sequences(valid_sequences, maxlen=max_len, padding='post', truncating='post')\n",
    "\n",
    "test_sequences = tokenizer.texts_to_sequences(test_statements)\n",
    "test_padded = keras.preprocessing.sequence.pad_sequences(test_sequences, maxlen=max_len, padding='post', truncating='post')\n",
    "\n",
    "#Add a custom layer here for embedding (like chat GPT. see if that works)\n",
    "\n",
    "shrink_model = keras.models.Sequential([\n",
    "    keras.layers.Embedding(num_unique_words,128),\n",
    "    Conv1D(filters=128, kernel_size=5, padding='causal', activation='relu'),\n",
    "    MaxPooling1D(2),\n",
    "    Bidirectional(LSTM(32, return_sequences=True, dropout=0.5, recurrent_dropout=0.5, kernel_regularizer=keras.regularizers.l2(0.001))),\n",
    "    Bidirectional(LSTM(32, dropout=0.5, recurrent_dropout=0.5, kernel_regularizer=keras.regularizers.l2(0.001))),\n",
    "    keras.layers.Dense(3, activation='softmax')\n",
    "])\n",
    "\n",
    "shrink_model.compile(loss=\"sparse_categorical_crossentropy\", optimizer=keras.optimizers.Adam(), metrics=[\"accuracy\"])\n",
    "\n",
    "early_stop = keras.callbacks.EarlyStopping(monitor='val_loss', patience=3)\n",
    "\n",
    "history = shrink_model.fit(train_padded, train_labels, epochs=2, validation_data=(valid_padded, valid_labels), callbacks=[early_stop], batch_size=64)"
   ]
  },
  {
   "cell_type": "code",
   "execution_count": 4,
   "metadata": {},
   "outputs": [],
   "source": [
    "import matplotlib.pyplot as plt\n",
    "plt.style.use('ggplot')\n",
    "\n",
    "def plot_history(history):\n",
    "    acc = history.history['accuracy']\n",
    "    val_acc = history.history['val_accuracy']\n",
    "    loss = history.history['loss']\n",
    "    val_loss = history.history['val_loss']\n",
    "    x = range(1, len(acc) + 1)\n",
    "\n",
    "    plt.figure(figsize=(12, 5))\n",
    "    plt.subplot(1, 2, 1)\n",
    "    plt.plot(x, acc, 'b', label='Training accuracy')\n",
    "    plt.plot(x, val_acc, 'r', label='Validation accuracy')\n",
    "    plt.title('Training and validation accuracy')\n",
    "    plt.legend()\n",
    "    plt.subplot(1, 2, 2)\n",
    "    plt.plot(x, loss, 'b', label='Training loss')\n",
    "    plt.plot(x, val_loss, 'r', label='Validation loss')\n",
    "    plt.title('Training and validation loss')\n",
    "    plt.legend()"
   ]
  },
  {
   "cell_type": "markdown",
   "metadata": {},
   "source": [
    "<h3>Graphs</h3>"
   ]
  },
  {
   "cell_type": "code",
   "execution_count": 5,
   "metadata": {},
   "outputs": [
    {
     "data": {
      "image/png": "[encoded data removed]",
      "text/plain": [
       "<Figure size 1200x500 with 2 Axes>"
      ]
     },
     "metadata": {},
     "output_type": "display_data"
    }
   ],
   "source": [
    "plot_history(history)"
   ]
  },
  {
   "cell_type": "markdown",
   "metadata": {},
   "source": [
    "<h3>Testing</h3>"
   ]
  },
  {
   "cell_type": "code",
   "execution_count": 6,
   "metadata": {},
   "outputs": [],
   "source": [
    "def weighted_ordinal_accuracy(y_true, y_pred, weight=0.5):\n",
    "    y_true = np.array(y_true)\n",
    "    y_pred = np.array(y_pred)\n",
    "    \n",
    "    abs_diff = np.abs(y_true - y_pred)\n",
    "    mask = (abs_diff == 1) * weight\n",
    "    weighted_diff = np.dot(abs_diff, mask)\n",
    "    accuracy = 1 - (weighted_diff / len(y_true))\n",
    "    \n",
    "    return accuracy"
   ]
  },
  {
   "cell_type": "code",
   "execution_count": 7,
   "metadata": {},
   "outputs": [
    {
     "name": "stdout",
     "output_type": "stream",
     "text": [
      "20/20 [==============================] - 12s 605ms/step - loss: 1.0884 - accuracy: 0.4436\n",
      "40/40 [==============================] - 27s 679ms/step\n",
      "ordinal accuracy:  0.8014996053670087\n",
      "accuracy:  0.4435674846172333\n"
     ]
    }
   ],
   "source": [
    "score = shrink_model.evaluate(test_padded, test_labels, batch_size=64)\n",
    "\n",
    "probs = shrink_model.predict(test_padded) \n",
    "pred = np.argmax(probs,axis=1)\n",
    "\n",
    "ord_acc = weighted_ordinal_accuracy(test_labels, pred)\n",
    "\n",
    "print(\"ordinal accuracy: \", ord_acc)\n",
    "\n",
    "print(\"accuracy: \", score[1])"
   ]
  },
  {
   "cell_type": "markdown",
   "metadata": {},
   "source": [
    "We get a 42.22% accuracy and a 75.57% ordinal accuracy for 3 labels!"
   ]
  },
  {
   "cell_type": "markdown",
   "metadata": {},
   "source": [
    "Trying to export the model "
   ]
  },
  {
   "cell_type": "code",
   "execution_count": 10,
   "metadata": {},
   "outputs": [
    {
     "name": "stderr",
     "output_type": "stream",
     "text": [
      "/home/rbadal/.local/lib/python3.10/site-packages/keras/src/engine/training.py:3103: UserWarning: You are saving your model as an HDF5 file via `model.save()`. This file format is considered legacy. We recommend using instead the native Keras format, e.g. `model.save('my_model.keras')`.\n",
      "  saving_api.save_model(\n"
     ]
    },
    {
     "name": "stdout",
     "output_type": "stream",
     "text": [
      "1/1 [==============================] - 1s 771ms/step\n"
     ]
    },
    {
     "data": {
      "text/plain": [
       "array([[0.16606061, 0.4513386 , 0.38260084]], dtype=float32)"
      ]
     },
     "execution_count": 10,
     "metadata": {},
     "output_type": "execute_result"
    }
   ],
   "source": [
    "#keras.backend.clear_session()\n",
    "shrink_model.save(\"web/news/views/shrink_model.h5\")\n",
    "tokenizer_json = tokenizer.to_json()\n",
    "with open(\"web/news/views/tokenizer.json\", \"w\") as json_file:\n",
    "    json_file.write(tokenizer_json)\n",
    "#shrink_model.save_weights(\"web/news/views/shrink_model.weights.h5\")\n",
    "# Immediate attempt \n",
    "#model = tf.keras.models.load_model(\"news/views/shrink_model.h5\")\n",
    "\n",
    "#new_shrink_model.load_weights(\"web/news/views/shrink_model.weights.h5\")\n",
    "new_model = keras.models.load_model(\"web/news/views/shrink_model.h5\")\n",
    "text_test = \"For PFOA and PFOS, the enforceable maximum contaminant levels (MCLs) will be set at 4.0 parts per trillion individually.\"\n",
    "text_test = clean_text([text_test])\n",
    "test_sequences = tokenizer.texts_to_sequences(text_test)\n",
    "#test_padded = keras.preprocessing.sequence.pad_sequences(test_sequences, maxlen=max_len, padding='post', truncating='post')\n",
    "test = keras.preprocessing.sequence.pad_sequences(test_sequences, maxlen=max_len, padding='post', truncating='post')\n",
    "new_model.predict(test)"
   ]
  },
  {
   "cell_type": "markdown",
   "metadata": {},
   "source": [
    "<h3>References</h3>"
   ]
  },
  {
   "cell_type": "markdown",
   "metadata": {},
   "source": [
    "These are the sources I used when coding. I will look into more stuff as I continue to experiment with the CNN-RNN model."
   ]
  },
  {
   "cell_type": "markdown",
   "metadata": {},
   "source": [
    "Luay, M. (2023, September 22). *Sentiment analysis using recurrent neural network(rnn),long short term memory(lstm) and...* Medium. https://medium.com/@muhammadluay45/sentiment-analysis-using-recurrent-neural-network-rnn-long-short-term-memory-lstm-and-38d6e670173f \n",
    "\n",
    "Nasir, J. A., Khan, O. S., & Varlamis, I. (2021, January 5). *Fake news detection: A hybrid CNN-RNN based Deep Learning Approach*. International Journal of Information Management Data Insights. https://www.sciencedirect.com/science/article/pii/S2667096820300070#sec0012 "
   ]
  },
  {
   "cell_type": "markdown",
   "metadata": {},
   "source": []
  }
 ],
 "metadata": {
  "kernelspec": {
   "display_name": ".venv",
   "language": "python",
   "name": "python3"
  },
  "language_info": {
   "codemirror_mode": {
    "name": "ipython",
    "version": 3
   },
   "file_extension": ".py",
   "mimetype": "text/x-python",
   "name": "python",
   "nbconvert_exporter": "python",
   "pygments_lexer": "ipython3",
   "version": "3.10.13"
  }
 },
 "nbformat": 4,
 "nbformat_minor": 2
}
