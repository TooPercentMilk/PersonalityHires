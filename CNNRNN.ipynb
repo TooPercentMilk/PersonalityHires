{
 "cells": [
  {
   "cell_type": "markdown",
   "metadata": {},
   "source": [
    "<h2>CNN and RNN Implementation Using Keras</h2>"
   ]
  },
  {
   "cell_type": "markdown",
   "metadata": {},
   "source": [
    "This file contains the implementation of a CNN with RNN layers for multiclass sentiment analysis. I will be using Bidirectional LSTM layers within the CNN in order to retain context and connections between words in a sentence. The CNN layers process and extract features from the data."
   ]
  },
  {
   "cell_type": "markdown",
   "metadata": {},
   "source": [
    "<h3>Data Preprocessing</h3>"
   ]
  },
  {
   "cell_type": "markdown",
   "metadata": {},
   "source": [
    "First, the data must be processed. I will be combining all of the statements and their corresponding metadata into one column."
   ]
  },
  {
   "cell_type": "code",
   "execution_count": 3,
   "metadata": {},
   "outputs": [],
   "source": [
    "import pandas as pd\n",
    "import numpy as np\n",
    "import nltk\n",
    "import re\n",
    "from tqdm import tqdm\n",
    "import os\n",
    "\n",
    "numeric_labels = {'pants-fire':0, 'false':1, 'barely-true':2, 'half-true':3, 'mostly-true':4, 'true':5}\n",
    "path = os.getcwd() + '/data'\n",
    "headers = ['id', 'label', 'statement', 'subject', 'speaker', 'job_title', 'state_info', 'affiliation', 'barely_true',\n",
    "           'false', 'half_true', 'mostly_true', 'pants-fire', 'context']\n",
    "train = pd.read_csv(path + '/train.tsv', sep='\\t', header=None, names=headers)\n",
    "valid = pd.read_csv(path + '/valid.tsv', sep='\\t', header=None, names=headers)\n",
    "test = pd.read_csv(path + '/test.tsv', sep='\\t', header=None, names=headers)\n",
    "\n",
    "train['alltext'] = train['statement'] + ' ' + train['subject'] + ' ' + train['speaker'] + ' ' + train['job_title'] + ' ' + train['state_info'] + ' ' + train['affiliation']\n",
    "test['alltext'] = test['statement'] + ' ' + test['subject'] + ' ' + test['speaker'] + ' ' + test['job_title'] + ' ' + test['state_info'] + ' ' + test['affiliation']\n",
    "valid['alltext'] = valid['statement'] + ' ' + valid['subject'] + ' ' + valid['speaker'] + ' ' + valid['job_title'] + ' ' + valid['state_info'] + ' ' + valid['affiliation']\n",
    "\n",
    "# lowercase, remove punctuation, remove numbers\n",
    "def clean_text(text):\n",
    "    if not isinstance(text, str):\n",
    "        return text\n",
    "    clean_text = text.lower()\n",
    "    clean_text = re.sub(r'[^\\w\\s]', '', clean_text)\n",
    "    return clean_text\n",
    "\n",
    "# convert text labels to numbers\n",
    "def clean_labels(label):\n",
    "    return numeric_labels[label]\n",
    "\n",
    "def shrink_label(label):\n",
    "\n",
    "    if label >= 4:\n",
    "        return 2\n",
    "    elif label >= 2 and label < 4:\n",
    "        return 1\n",
    "    else:\n",
    "        return 0"
   ]
  },
  {
   "cell_type": "markdown",
   "metadata": {},
   "source": [
    "Training data processing:"
   ]
  },
  {
   "cell_type": "code",
   "execution_count": 4,
   "metadata": {},
   "outputs": [
    {
     "data": {
      "text/html": [
       "<div>\n",
       "<style scoped>\n",
       "    .dataframe tbody tr th:only-of-type {\n",
       "        vertical-align: middle;\n",
       "    }\n",
       "\n",
       "    .dataframe tbody tr th {\n",
       "        vertical-align: top;\n",
       "    }\n",
       "\n",
       "    .dataframe thead th {\n",
       "        text-align: right;\n",
       "    }\n",
       "</style>\n",
       "<table border=\"1\" class=\"dataframe\">\n",
       "  <thead>\n",
       "    <tr style=\"text-align: right;\">\n",
       "      <th></th>\n",
       "      <th>label</th>\n",
       "      <th>alltext</th>\n",
       "    </tr>\n",
       "  </thead>\n",
       "  <tbody>\n",
       "    <tr>\n",
       "      <th>0</th>\n",
       "      <td>1</td>\n",
       "      <td>says the annies list political group supports ...</td>\n",
       "    </tr>\n",
       "    <tr>\n",
       "      <th>1</th>\n",
       "      <td>3</td>\n",
       "      <td>when did the decline of coal start it started ...</td>\n",
       "    </tr>\n",
       "    <tr>\n",
       "      <th>2</th>\n",
       "      <td>4</td>\n",
       "      <td>hillary clinton agrees with john mccain by vot...</td>\n",
       "    </tr>\n",
       "    <tr>\n",
       "      <th>5</th>\n",
       "      <td>5</td>\n",
       "      <td>the chicago bears have had more starting quart...</td>\n",
       "    </tr>\n",
       "    <tr>\n",
       "      <th>7</th>\n",
       "      <td>3</td>\n",
       "      <td>im the only person on this stage who has worke...</td>\n",
       "    </tr>\n",
       "  </tbody>\n",
       "</table>\n",
       "</div>"
      ],
      "text/plain": [
       "   label                                            alltext\n",
       "0      1  says the annies list political group supports ...\n",
       "1      3  when did the decline of coal start it started ...\n",
       "2      4  hillary clinton agrees with john mccain by vot...\n",
       "5      5  the chicago bears have had more starting quart...\n",
       "7      3  im the only person on this stage who has worke..."
      ]
     },
     "execution_count": 4,
     "metadata": {},
     "output_type": "execute_result"
    }
   ],
   "source": [
    "# data processing: clean text, convert labels to numbers, and remove rows with NaNs\n",
    "train['alltext'] = train['alltext'].apply(clean_text)\n",
    "train['label'] = train['label'].apply(clean_labels)\n",
    "train_data = train[['label', 'alltext']]\n",
    "train_data = train_data.dropna()\n",
    "\n",
    "# put cleaned data into csv file\n",
    "train_data.to_csv('train_data.csv', index=False, header=['label','alltext'])\n",
    "\n",
    "# print out data head\n",
    "train_data.head()"
   ]
  },
  {
   "cell_type": "markdown",
   "metadata": {},
   "source": [
    "Validation data processing:"
   ]
  },
  {
   "cell_type": "code",
   "execution_count": 5,
   "metadata": {},
   "outputs": [
    {
     "data": {
      "text/html": [
       "<div>\n",
       "<style scoped>\n",
       "    .dataframe tbody tr th:only-of-type {\n",
       "        vertical-align: middle;\n",
       "    }\n",
       "\n",
       "    .dataframe tbody tr th {\n",
       "        vertical-align: top;\n",
       "    }\n",
       "\n",
       "    .dataframe thead th {\n",
       "        text-align: right;\n",
       "    }\n",
       "</style>\n",
       "<table border=\"1\" class=\"dataframe\">\n",
       "  <thead>\n",
       "    <tr style=\"text-align: right;\">\n",
       "      <th></th>\n",
       "      <th>label</th>\n",
       "      <th>alltext</th>\n",
       "    </tr>\n",
       "  </thead>\n",
       "  <tbody>\n",
       "    <tr>\n",
       "      <th>0</th>\n",
       "      <td>2</td>\n",
       "      <td>we have less americans working now than in the...</td>\n",
       "    </tr>\n",
       "    <tr>\n",
       "      <th>2</th>\n",
       "      <td>1</td>\n",
       "      <td>says having organizations parading as being so...</td>\n",
       "    </tr>\n",
       "    <tr>\n",
       "      <th>3</th>\n",
       "      <td>3</td>\n",
       "      <td>says nearly half of oregons children are poor ...</td>\n",
       "    </tr>\n",
       "    <tr>\n",
       "      <th>4</th>\n",
       "      <td>3</td>\n",
       "      <td>on attacks by republicans that various program...</td>\n",
       "    </tr>\n",
       "    <tr>\n",
       "      <th>5</th>\n",
       "      <td>1</td>\n",
       "      <td>says when armed civilians stop mass shootings ...</td>\n",
       "    </tr>\n",
       "  </tbody>\n",
       "</table>\n",
       "</div>"
      ],
      "text/plain": [
       "   label                                            alltext\n",
       "0      2  we have less americans working now than in the...\n",
       "2      1  says having organizations parading as being so...\n",
       "3      3  says nearly half of oregons children are poor ...\n",
       "4      3  on attacks by republicans that various program...\n",
       "5      1  says when armed civilians stop mass shootings ..."
      ]
     },
     "execution_count": 5,
     "metadata": {},
     "output_type": "execute_result"
    }
   ],
   "source": [
    "# data processing: clean text, convert labels to numbers, and remove rows with NaNs\n",
    "valid['alltext'] = valid['alltext'].apply(clean_text)\n",
    "valid['label'] = valid['label'].apply(clean_labels)\n",
    "valid_data = valid[['label', 'alltext']]\n",
    "valid_data = valid_data.dropna()\n",
    "\n",
    "# put cleaned data into csv file\n",
    "valid_data.to_csv('valid_data.csv', index=False, header=['label','alltext'])\n",
    "\n",
    "# print out data head\n",
    "valid_data.head()"
   ]
  },
  {
   "cell_type": "markdown",
   "metadata": {},
   "source": [
    "Test data processing:"
   ]
  },
  {
   "cell_type": "code",
   "execution_count": 6,
   "metadata": {},
   "outputs": [
    {
     "data": {
      "text/html": [
       "<div>\n",
       "<style scoped>\n",
       "    .dataframe tbody tr th:only-of-type {\n",
       "        vertical-align: middle;\n",
       "    }\n",
       "\n",
       "    .dataframe tbody tr th {\n",
       "        vertical-align: top;\n",
       "    }\n",
       "\n",
       "    .dataframe thead th {\n",
       "        text-align: right;\n",
       "    }\n",
       "</style>\n",
       "<table border=\"1\" class=\"dataframe\">\n",
       "  <thead>\n",
       "    <tr style=\"text-align: right;\">\n",
       "      <th></th>\n",
       "      <th>label</th>\n",
       "      <th>alltext</th>\n",
       "    </tr>\n",
       "  </thead>\n",
       "  <tbody>\n",
       "    <tr>\n",
       "      <th>0</th>\n",
       "      <td>5</td>\n",
       "      <td>building a wall on the usmexico border will ta...</td>\n",
       "    </tr>\n",
       "    <tr>\n",
       "      <th>1</th>\n",
       "      <td>1</td>\n",
       "      <td>wisconsin is on pace to double the number of l...</td>\n",
       "    </tr>\n",
       "    <tr>\n",
       "      <th>2</th>\n",
       "      <td>1</td>\n",
       "      <td>says john mccain has done nothing to help the ...</td>\n",
       "    </tr>\n",
       "    <tr>\n",
       "      <th>3</th>\n",
       "      <td>3</td>\n",
       "      <td>suzanne bonamici supports a plan that will cut...</td>\n",
       "    </tr>\n",
       "    <tr>\n",
       "      <th>6</th>\n",
       "      <td>5</td>\n",
       "      <td>says that tennessee law requires that schools ...</td>\n",
       "    </tr>\n",
       "  </tbody>\n",
       "</table>\n",
       "</div>"
      ],
      "text/plain": [
       "   label                                            alltext\n",
       "0      5  building a wall on the usmexico border will ta...\n",
       "1      1  wisconsin is on pace to double the number of l...\n",
       "2      1  says john mccain has done nothing to help the ...\n",
       "3      3  suzanne bonamici supports a plan that will cut...\n",
       "6      5  says that tennessee law requires that schools ..."
      ]
     },
     "execution_count": 6,
     "metadata": {},
     "output_type": "execute_result"
    }
   ],
   "source": [
    "# data processing: clean text, convert labels to numbers, and remove rows with NaNs\n",
    "test['alltext'] = test['alltext'].apply(clean_text)\n",
    "test['label'] = test['label'].apply(clean_labels)\n",
    "test_data = test[['label', 'alltext']]\n",
    "test_data = test_data.dropna()\n",
    "\n",
    "# put cleaned data into csv file\n",
    "test_data.to_csv('test_data.csv', index=False, header=['label','alltext'])\n",
    "\n",
    "# print out data head\n",
    "test_data.head()"
   ]
  },
  {
   "cell_type": "markdown",
   "metadata": {},
   "source": [
    "We need to also find the number of unique words across all files. To do so, I will combine all three files into one big data file and count the number of unique words in the alltext column."
   ]
  },
  {
   "cell_type": "code",
   "execution_count": 7,
   "metadata": {},
   "outputs": [],
   "source": [
    "# combine the dataframes into a single dataframe\n",
    "combined = pd.concat([train_data, test_data, valid_data], ignore_index=True)\n",
    "\n",
    "# create a set that holds all the unique words in combined data frame\n",
    "results = set()\n",
    "combined['alltext'].str.split().apply(results.update)\n",
    "\n",
    "# len of set is the number of unique words\n",
    "num_unique_words = len(results)"
   ]
  },
  {
   "cell_type": "markdown",
   "metadata": {},
   "source": [
    "Now that the data is processed, it must be tokenized and padded."
   ]
  },
  {
   "cell_type": "markdown",
   "metadata": {},
   "source": [
    "<h3>Tokenizing and Padding</h3>"
   ]
  },
  {
   "cell_type": "markdown",
   "metadata": {},
   "source": [
    "Now, the data is tokenized and padded in order to pass it to the CNN/RNN model."
   ]
  },
  {
   "cell_type": "code",
   "execution_count": 8,
   "metadata": {},
   "outputs": [
    {
     "name": "stderr",
     "output_type": "stream",
     "text": [
      "/Users/anjalisharma/Desktop/CNN/.venv/lib/python3.10/site-packages/tqdm/auto.py:21: TqdmWarning: IProgress not found. Please update jupyter and ipywidgets. See https://ipywidgets.readthedocs.io/en/stable/user_install.html\n",
      "  from .autonotebook import tqdm as notebook_tqdm\n"
     ]
    }
   ],
   "source": [
    "import numpy as np\n",
    "import tensorflow as tf\n",
    "from tensorflow import keras\n",
    "import tensorflow_datasets as tfds\n",
    "\n",
    "# important to make sure TensorFlow version is okay\n",
    "if not tf.__version__.startswith('2'):\n",
    "    raise ValueError('This code requires TensorFlow V2.x')\n",
    "\n",
    "# max length of sentences\n",
    "max_len = max(train_data[\"alltext\"].str.len().max(), valid_data[\"alltext\"].str.len().max(), test_data[\"alltext\"].str.len().max())\n",
    "\n",
    "# create tokenizer and fit it to train data\n",
    "tokenizer = keras.preprocessing.text.Tokenizer(num_words=num_unique_words)\n",
    "tokenizer.fit_on_texts(train_data['alltext'])\n",
    "\n",
    "# create padded matrices for training, validation, and testing sets\n",
    "train_sequences = tokenizer.texts_to_sequences(train_data['alltext'])\n",
    "train_padded = keras.preprocessing.sequence.pad_sequences(train_sequences, maxlen=max_len, padding='post', truncating='post')\n",
    "\n",
    "valid_sequences = tokenizer.texts_to_sequences(valid_data['alltext'])\n",
    "valid_padded = keras.preprocessing.sequence.pad_sequences(valid_sequences, maxlen=max_len, padding='post', truncating='post')\n",
    "\n",
    "test_sequences = tokenizer.texts_to_sequences(test_data['alltext'])\n",
    "test_padded = keras.preprocessing.sequence.pad_sequences(test_sequences, maxlen=max_len, padding='post', truncating='post')\n",
    "\n",
    "# separate out the labels\n",
    "train_labels = train_data['label']\n",
    "valid_labels = valid_data['label']\n",
    "test_labels = test_data['label']"
   ]
  },
  {
   "cell_type": "markdown",
   "metadata": {},
   "source": [
    "<h3>Model</h3>"
   ]
  },
  {
   "cell_type": "markdown",
   "metadata": {},
   "source": [
    "Now, we build the CNN/RNN model."
   ]
  },
  {
   "cell_type": "code",
   "execution_count": 9,
   "metadata": {},
   "outputs": [],
   "source": [
    "from keras.layers import Conv1D, MaxPooling1D\n",
    "from keras.layers import Bidirectional, LSTM\n",
    "\n",
    "CNNRNNmodel = keras.models.Sequential([\n",
    "    keras.layers.Embedding(num_unique_words,128),\n",
    "    Conv1D(128, 5, activation='relu'),\n",
    "    MaxPooling1D(2),\n",
    "    Bidirectional(LSTM(32, return_sequences=True, dropout=0.5, recurrent_dropout=0.5, kernel_regularizer=keras.regularizers.l2(0.001))),\n",
    "    Bidirectional(LSTM(32, dropout=0.5, recurrent_dropout=0.5, kernel_regularizer=keras.regularizers.l2(0.001))),\n",
    "    keras.layers.Dense(6, activation='softmax')\n",
    "])\n",
    "\n",
    "CNNRNNmodel.compile(loss=\"sparse_categorical_crossentropy\", optimizer=keras.optimizers.Adam(), metrics=[\"accuracy\"])"
   ]
  },
  {
   "cell_type": "markdown",
   "metadata": {},
   "source": [
    "<h3>Training</h3>"
   ]
  },
  {
   "cell_type": "markdown",
   "metadata": {},
   "source": [
    "Next, we train the model on 10 epochs to start."
   ]
  },
  {
   "cell_type": "code",
   "execution_count": 27,
   "metadata": {},
   "outputs": [
    {
     "name": "stdout",
     "output_type": "stream",
     "text": [
      "Epoch 1/10\n",
      "\u001b[1m107/107\u001b[0m \u001b[32m━━━━━━━━━━━━━━━━━━━━\u001b[0m\u001b[37m\u001b[0m \u001b[1m187s\u001b[0m 2s/step - accuracy: 0.2645 - loss: 1.7448 - val_accuracy: 0.2641 - val_loss: 1.7514\n",
      "Epoch 2/10\n",
      "\u001b[1m107/107\u001b[0m \u001b[32m━━━━━━━━━━━━━━━━━━━━\u001b[0m\u001b[37m\u001b[0m \u001b[1m176s\u001b[0m 2s/step - accuracy: 0.3446 - loss: 1.5393 - val_accuracy: 0.2491 - val_loss: 1.8598\n",
      "Epoch 3/10\n",
      "\u001b[1m107/107\u001b[0m \u001b[32m━━━━━━━━━━━━━━━━━━━━\u001b[0m\u001b[37m\u001b[0m \u001b[1m183s\u001b[0m 2s/step - accuracy: 0.4162 - loss: 1.3746 - val_accuracy: 0.2457 - val_loss: 2.0340\n",
      "Epoch 4/10\n",
      "\u001b[1m107/107\u001b[0m \u001b[32m━━━━━━━━━━━━━━━━━━━━\u001b[0m\u001b[37m\u001b[0m \u001b[1m179s\u001b[0m 2s/step - accuracy: 0.4654 - loss: 1.2242 - val_accuracy: 0.2480 - val_loss: 2.2216\n"
     ]
    }
   ],
   "source": [
    "early_stop = keras.callbacks.EarlyStopping(monitor='val_loss', patience=3)\n",
    "\n",
    "history = CNNRNNmodel.fit(train_padded, train_labels, epochs=10, validation_data=(valid_padded, valid_labels), callbacks=[early_stop], batch_size=64)"
   ]
  },
  {
   "cell_type": "markdown",
   "metadata": {},
   "source": [
    "<h3>Graphs</h3>"
   ]
  },
  {
   "cell_type": "markdown",
   "metadata": {},
   "source": [
    "We can plot the accuracy and loss for the training and validation sets."
   ]
  },
  {
   "cell_type": "code",
   "execution_count": 10,
   "metadata": {},
   "outputs": [],
   "source": [
    "import matplotlib.pyplot as plt\n",
    "plt.style.use('ggplot')\n",
    "\n",
    "def plot_history(history):\n",
    "    acc = history.history['accuracy']\n",
    "    val_acc = history.history['val_accuracy']\n",
    "    loss = history.history['loss']\n",
    "    val_loss = history.history['val_loss']\n",
    "    x = range(1, len(acc) + 1)\n",
    "\n",
    "    plt.figure(figsize=(12, 5))\n",
    "    plt.subplot(1, 2, 1)\n",
    "    plt.plot(x, acc, 'b', label='Training accuracy')\n",
    "    plt.plot(x, val_acc, 'r', label='Validation accuracy')\n",
    "    plt.title('Training and validation accuracy')\n",
    "    plt.legend()\n",
    "    plt.subplot(1, 2, 2)\n",
    "    plt.plot(x, loss, 'b', label='Training loss')\n",
    "    plt.plot(x, val_loss, 'r', label='Validation loss')\n",
    "    plt.title('Training and validation loss')\n",
    "    plt.legend()"
   ]
  },
  {
   "cell_type": "code",
   "execution_count": 11,
   "metadata": {},
   "outputs": [
    {
     "ename": "NameError",
     "evalue": "name 'history' is not defined",
     "output_type": "error",
     "traceback": [
      "\u001b[0;31m---------------------------------------------------------------------------\u001b[0m",
      "\u001b[0;31mNameError\u001b[0m                                 Traceback (most recent call last)",
      "Cell \u001b[0;32mIn[11], line 1\u001b[0m\n\u001b[0;32m----> 1\u001b[0m plot_history(\u001b[43mhistory\u001b[49m)\n",
      "\u001b[0;31mNameError\u001b[0m: name 'history' is not defined"
     ]
    }
   ],
   "source": [
    "plot_history(history)"
   ]
  },
  {
   "cell_type": "markdown",
   "metadata": {},
   "source": [
    "<h3>Testing</h3>"
   ]
  },
  {
   "cell_type": "markdown",
   "metadata": {},
   "source": [
    "Ordinal accuracy function:"
   ]
  },
  {
   "cell_type": "code",
   "execution_count": 12,
   "metadata": {},
   "outputs": [],
   "source": [
    "def weighted_ordinal_accuracy(y_true, y_pred, weight=0.5):\n",
    "    y_true = np.array(y_true)\n",
    "    y_pred = np.array(y_pred)\n",
    "    \n",
    "    abs_diff = np.abs(y_true - y_pred)\n",
    "    mask = (abs_diff == 1) * weight\n",
    "    weighted_diff = np.dot(abs_diff, mask)\n",
    "    accuracy = 1 - (weighted_diff / len(y_true))\n",
    "    \n",
    "    return accuracy"
   ]
  },
  {
   "cell_type": "markdown",
   "metadata": {},
   "source": [
    "Finally, let's see what our test accuracy is so far!"
   ]
  },
  {
   "cell_type": "code",
   "execution_count": 34,
   "metadata": {},
   "outputs": [
    {
     "name": "stdout",
     "output_type": "stream",
     "text": [
      "\u001b[1m14/14\u001b[0m \u001b[32m━━━━━━━━━━━━━━━━━━━━\u001b[0m\u001b[37m\u001b[0m \u001b[1m5s\u001b[0m 362ms/step - accuracy: 0.2294 - loss: 2.2359\n",
      "\u001b[1m28/28\u001b[0m \u001b[32m━━━━━━━━━━━━━━━━━━━━\u001b[0m\u001b[37m\u001b[0m \u001b[1m6s\u001b[0m 198ms/step\n",
      "ordinal accuracy:  0.8019630484988453\n",
      "accuracy:  0.230946883559227\n"
     ]
    }
   ],
   "source": [
    "score = CNNRNNmodel.evaluate(test_padded, test_labels, batch_size=64)\n",
    "\n",
    "probs = CNNRNNmodel.predict(test_padded) \n",
    "pred = np.argmax(probs,axis=1)\n",
    "\n",
    "ord_acc = weighted_ordinal_accuracy(test_labels, pred)\n",
    "\n",
    "print(\"ordinal accuracy: \", ord_acc)\n",
    "\n",
    "print(\"accuracy: \", score[1])"
   ]
  },
  {
   "cell_type": "markdown",
   "metadata": {},
   "source": [
    "We get a 23.09% accuracy and 80.2% ordinal accuracy."
   ]
  },
  {
   "cell_type": "markdown",
   "metadata": {},
   "source": [
    "Maybe adding more layers can help with the accuracy. Also, experimenting with what metadata is being included can posssible help."
   ]
  },
  {
   "cell_type": "markdown",
   "metadata": {},
   "source": [
    "<h2>Model Without Any Metadata</h2>"
   ]
  },
  {
   "cell_type": "markdown",
   "metadata": {},
   "source": [
    "Let's see if the model can perform well without the metadata. We will only train for 2 epochs since the validation accuracy decreases after."
   ]
  },
  {
   "cell_type": "markdown",
   "metadata": {},
   "source": [
    "<h4>Preprocess Data (Again)</h4>"
   ]
  },
  {
   "cell_type": "code",
   "execution_count": 46,
   "metadata": {},
   "outputs": [],
   "source": [
    "train = pd.read_csv(path + '/train.tsv', sep='\\t', header=None, names=headers)\n",
    "valid = pd.read_csv(path + '/valid.tsv', sep='\\t', header=None, names=headers)\n",
    "test = pd.read_csv(path + '/test.tsv', sep='\\t', header=None, names=headers)\n",
    "\n",
    "train['statement'] = train['statement'].apply(clean_text)\n",
    "valid['statement'] = valid['statement'].apply(clean_text)\n",
    "test['statement'] = test['statement'].apply(clean_text)\n",
    "train['label'] = train['label'].apply(clean_labels)\n",
    "valid['label'] = valid['label'].apply(clean_labels)\n",
    "test['label'] = test['label'].apply(clean_labels)\n",
    "\n",
    "train.head()\n",
    "\n",
    "tr_data = train[['label', 'statement']]\n",
    "tr_data = tr_data.dropna()\n",
    "train_statements = tr_data['statement']\n",
    "train_labels = tr_data['label']\n",
    "\n",
    "va_data = valid[['label', 'statement']]\n",
    "va_data = va_data.dropna()\n",
    "valid_statements = va_data['statement']\n",
    "valid_labels = va_data['label']\n",
    "\n",
    "te_data = test[['label', 'statement']]\n",
    "te_data = te_data.dropna()\n",
    "test_statements = te_data['statement']\n",
    "test_labels = te_data['label']"
   ]
  },
  {
   "cell_type": "markdown",
   "metadata": {},
   "source": [
    "<h4>Tokenizing, Padding, Model Setup, and Training</h4>"
   ]
  },
  {
   "cell_type": "code",
   "execution_count": 47,
   "metadata": {},
   "outputs": [
    {
     "name": "stdout",
     "output_type": "stream",
     "text": [
      "Epoch 1/2\n",
      "\u001b[1m160/160\u001b[0m \u001b[32m━━━━━━━━━━━━━━━━━━━━\u001b[0m\u001b[37m\u001b[0m \u001b[1m376s\u001b[0m 2s/step - accuracy: 0.2039 - loss: 2.0431 - val_accuracy: 0.2118 - val_loss: 1.8270\n",
      "Epoch 2/2\n",
      "\u001b[1m160/160\u001b[0m \u001b[32m━━━━━━━━━━━━━━━━━━━━\u001b[0m\u001b[37m\u001b[0m \u001b[1m389s\u001b[0m 2s/step - accuracy: 0.2304 - loss: 1.7913 - val_accuracy: 0.2578 - val_loss: 1.7453\n"
     ]
    }
   ],
   "source": [
    "# combine the dataframes into a single dataframe\n",
    "combined = pd.concat([train_statements, test_statements, valid_statements], ignore_index=True)\n",
    "\n",
    "# create a set that holds all the unique words in combined data frame\n",
    "results = set()\n",
    "combined.str.split().apply(results.update)\n",
    "\n",
    "# len of set is the number of unique words\n",
    "num_unique_words = len(results)\n",
    "\n",
    "# max length of statements\n",
    "max_len = max(train_statements.str.len().max(), valid_statements.str.len().max(), test_statements.str.len().max())\n",
    "\n",
    "# create tokenizer and fit it to train data\n",
    "tokenizer = keras.preprocessing.text.Tokenizer(num_words=num_unique_words)\n",
    "tokenizer.fit_on_texts(train_statements)\n",
    "\n",
    "# create padded matrices for training, validation, and testing sets\n",
    "train_sequences = tokenizer.texts_to_sequences(train_statements)\n",
    "train_padded = keras.preprocessing.sequence.pad_sequences(train_sequences, maxlen=max_len, padding='post', truncating='post')\n",
    "\n",
    "valid_sequences = tokenizer.texts_to_sequences(valid_statements)\n",
    "valid_padded = keras.preprocessing.sequence.pad_sequences(valid_sequences, maxlen=max_len, padding='post', truncating='post')\n",
    "\n",
    "test_sequences = tokenizer.texts_to_sequences(test_statements)\n",
    "test_padded = keras.preprocessing.sequence.pad_sequences(test_sequences, maxlen=max_len, padding='post', truncating='post')\n",
    "\n",
    "statements_model = keras.models.Sequential([\n",
    "    keras.layers.Embedding(num_unique_words,128),\n",
    "    Conv1D(filters=128, kernel_size=5, padding='causal', activation='relu'),\n",
    "    MaxPooling1D(2),\n",
    "    Bidirectional(LSTM(32, return_sequences=True, dropout=0.5, recurrent_dropout=0.5, kernel_regularizer=keras.regularizers.l2(0.001))),\n",
    "    Bidirectional(LSTM(32, dropout=0.5, recurrent_dropout=0.5, kernel_regularizer=keras.regularizers.l2(0.001))),\n",
    "    keras.layers.Dense(6, activation='softmax')\n",
    "])\n",
    "\n",
    "statements_model.compile(loss=\"sparse_categorical_crossentropy\", optimizer=keras.optimizers.Adam(), metrics=[\"accuracy\"])\n",
    "\n",
    "early_stop = keras.callbacks.EarlyStopping(monitor='val_loss', patience=3)\n",
    "\n",
    "history = statements_model.fit(train_padded, train_labels, epochs=2, validation_data=(valid_padded, valid_labels), callbacks=[early_stop], batch_size=64)"
   ]
  },
  {
   "cell_type": "code",
   "execution_count": 49,
   "metadata": {},
   "outputs": [],
   "source": [
    "def shrink_acc(actual, pred):\n",
    "\n",
    "    act = []\n",
    "    p = []\n",
    "\n",
    "    for label in actual:\n",
    "\n",
    "        if label >= 4:\n",
    "            act.append(2)\n",
    "        elif label >= 2 and label < 4:\n",
    "            act.append(1)\n",
    "        else:\n",
    "            act.append(0)\n",
    "\n",
    "    for label in pred:\n",
    "\n",
    "        if label >= 4:\n",
    "            p.append(2)\n",
    "        elif label >= 2 and label < 4:\n",
    "            p.append(1)\n",
    "        else:\n",
    "            p.append(0)\n",
    "\n",
    "    correct = 0\n",
    "    for i in range(len(act)):\n",
    "        if act[i] == p[i]:\n",
    "            correct += 1\n",
    "    return correct / float(len(act))"
   ]
  },
  {
   "cell_type": "markdown",
   "metadata": {},
   "source": [
    "<h4>Graphs</h4>"
   ]
  },
  {
   "cell_type": "code",
   "execution_count": 50,
   "metadata": {},
   "outputs": [
    {
     "data": {
      "image/png": "[encoded data removed]",
      "text/plain": [
       "<Figure size 1200x500 with 2 Axes>"
      ]
     },
     "metadata": {},
     "output_type": "display_data"
    }
   ],
   "source": [
    "plot_history(history)"
   ]
  },
  {
   "cell_type": "markdown",
   "metadata": {},
   "source": [
    "<h4>Testing</h4>"
   ]
  },
  {
   "cell_type": "markdown",
   "metadata": {},
   "source": [
    "Let's see our test accuracy!"
   ]
  },
  {
   "cell_type": "code",
   "execution_count": 51,
   "metadata": {},
   "outputs": [
    {
     "name": "stdout",
     "output_type": "stream",
     "text": [
      "\u001b[1m20/20\u001b[0m \u001b[32m━━━━━━━━━━━━━━━━━━━━\u001b[0m\u001b[37m\u001b[0m \u001b[1m11s\u001b[0m 554ms/step - accuracy: 0.2555 - loss: 1.7619\n",
      "\u001b[1m40/40\u001b[0m \u001b[32m━━━━━━━━━━━━━━━━━━━━\u001b[0m\u001b[37m\u001b[0m \u001b[1m13s\u001b[0m 310ms/step\n",
      "ordinal accuracy:  0.8153117600631412\n",
      "accuracy:  0.25572216510772705\n",
      "shrink accuracy:  0.4198895027624309\n"
     ]
    }
   ],
   "source": [
    "score = statements_model.evaluate(test_padded, test_labels, batch_size=64)\n",
    "\n",
    "probs = statements_model.predict(test_padded) \n",
    "pred = np.argmax(probs,axis=1)\n",
    "\n",
    "ord_acc = weighted_ordinal_accuracy(test_labels, pred)\n",
    "\n",
    "shr_acc = shrink_acc(test_labels, pred)\n",
    "\n",
    "print(\"ordinal accuracy: \", ord_acc)\n",
    "\n",
    "print(\"accuracy: \", score[1])\n",
    "\n",
    "print(\"shrink accuracy: \", shr_acc)"
   ]
  },
  {
   "cell_type": "markdown",
   "metadata": {},
   "source": [
    "We get a ~25.1% accuracy and a 84.68% ordinal accuracy."
   ]
  },
  {
   "cell_type": "markdown",
   "metadata": {},
   "source": [
    "<h2>Model with 3 Labels</h2>"
   ]
  },
  {
   "cell_type": "markdown",
   "metadata": {},
   "source": [
    "Let's try the model with only 3 labels."
   ]
  },
  {
   "cell_type": "markdown",
   "metadata": {},
   "source": [
    "<h3>Data Preprocessing</h3>"
   ]
  },
  {
   "cell_type": "code",
   "execution_count": 39,
   "metadata": {},
   "outputs": [],
   "source": [
    "train = pd.read_csv(path + '/train.tsv', sep='\\t', header=None, names=headers)\n",
    "valid = pd.read_csv(path + '/valid.tsv', sep='\\t', header=None, names=headers)\n",
    "test = pd.read_csv(path + '/test.tsv', sep='\\t', header=None, names=headers)\n",
    "\n",
    "train['statement'] = train['statement'].apply(clean_text)\n",
    "valid['statement'] = valid['statement'].apply(clean_text)\n",
    "test['statement'] = test['statement'].apply(clean_text)\n",
    "train['label'] = train['label'].apply(clean_labels)\n",
    "train['label'] = train['label'].apply(shrink_label)\n",
    "valid['label'] = valid['label'].apply(clean_labels)\n",
    "valid['label'] = valid['label'].apply(shrink_label)\n",
    "test['label'] = test['label'].apply(clean_labels)\n",
    "test['label'] = test['label'].apply(shrink_label)\n",
    "\n",
    "tr_data = train[['label', 'statement']]\n",
    "tr_data = tr_data.dropna()\n",
    "train_statements = tr_data['statement']\n",
    "train_labels = tr_data['label']\n",
    "\n",
    "va_data = valid[['label', 'statement']]\n",
    "va_data = va_data.dropna()\n",
    "valid_statements = va_data['statement']\n",
    "valid_labels = va_data['label']\n",
    "\n",
    "te_data = test[['label', 'statement']]\n",
    "te_data = te_data.dropna()\n",
    "test_statements = te_data['statement']\n",
    "test_labels = te_data['label']"
   ]
  },
  {
   "cell_type": "markdown",
   "metadata": {},
   "source": [
    "<h3>Tokenizing, Padding, Model Setup, and Training</h3>"
   ]
  },
  {
   "cell_type": "code",
   "execution_count": 40,
   "metadata": {},
   "outputs": [
    {
     "name": "stdout",
     "output_type": "stream",
     "text": [
      "Epoch 1/2\n",
      "\u001b[1m160/160\u001b[0m \u001b[32m━━━━━━━━━━━━━━━━━━━━\u001b[0m\u001b[37m\u001b[0m \u001b[1m367s\u001b[0m 2s/step - accuracy: 0.3631 - loss: 1.3629 - val_accuracy: 0.4003 - val_loss: 1.1290\n",
      "Epoch 2/2\n",
      "\u001b[1m160/160\u001b[0m \u001b[32m━━━━━━━━━━━━━━━━━━━━\u001b[0m\u001b[37m\u001b[0m \u001b[1m370s\u001b[0m 2s/step - accuracy: 0.4536 - loss: 1.0872 - val_accuracy: 0.4330 - val_loss: 1.0909\n"
     ]
    }
   ],
   "source": [
    "# combine the dataframes into a single dataframe\n",
    "combined = pd.concat([train_statements, test_statements, valid_statements], ignore_index=True)\n",
    "\n",
    "# create a set that holds all the unique words in combined data frame\n",
    "results = set()\n",
    "combined.str.split().apply(results.update)\n",
    "\n",
    "# len of set is the number of unique words\n",
    "num_unique_words = len(results)\n",
    "\n",
    "# max length of statements\n",
    "max_len = max(train_statements.str.len().max(), valid_statements.str.len().max(), test_statements.str.len().max())\n",
    "\n",
    "# create tokenizer and fit it to train data\n",
    "tokenizer = keras.preprocessing.text.Tokenizer(num_words=num_unique_words)\n",
    "tokenizer.fit_on_texts(train_statements)\n",
    "\n",
    "# create padded matrices for training, validation, and testing sets\n",
    "train_sequences = tokenizer.texts_to_sequences(train_statements)\n",
    "train_padded = keras.preprocessing.sequence.pad_sequences(train_sequences, maxlen=max_len, padding='post', truncating='post')\n",
    "\n",
    "valid_sequences = tokenizer.texts_to_sequences(valid_statements)\n",
    "valid_padded = keras.preprocessing.sequence.pad_sequences(valid_sequences, maxlen=max_len, padding='post', truncating='post')\n",
    "\n",
    "test_sequences = tokenizer.texts_to_sequences(test_statements)\n",
    "test_padded = keras.preprocessing.sequence.pad_sequences(test_sequences, maxlen=max_len, padding='post', truncating='post')\n",
    "\n",
    "shrink_model = keras.models.Sequential([\n",
    "    keras.layers.Embedding(num_unique_words,128),\n",
    "    Conv1D(filters=128, kernel_size=5, padding='causal', activation='relu'),\n",
    "    MaxPooling1D(2),\n",
    "    Bidirectional(LSTM(32, return_sequences=True, dropout=0.5, recurrent_dropout=0.5, kernel_regularizer=keras.regularizers.l2(0.001))),\n",
    "    Bidirectional(LSTM(32, dropout=0.5, recurrent_dropout=0.5, kernel_regularizer=keras.regularizers.l2(0.001))),\n",
    "    keras.layers.Dense(3, activation='softmax')\n",
    "])\n",
    "\n",
    "shrink_model.compile(loss=\"sparse_categorical_crossentropy\", optimizer=keras.optimizers.Adam(), metrics=[\"accuracy\"])\n",
    "\n",
    "early_stop = keras.callbacks.EarlyStopping(monitor='val_loss', patience=3)\n",
    "\n",
    "history = shrink_model.fit(train_padded, train_labels, epochs=2, validation_data=(valid_padded, valid_labels), callbacks=[early_stop], batch_size=64)"
   ]
  },
  {
   "cell_type": "markdown",
   "metadata": {},
   "source": [
    "<h3>Graphs</h3>"
   ]
  },
  {
   "cell_type": "code",
   "execution_count": 41,
   "metadata": {},
   "outputs": [
    {
     "data": {
      "image/png": "[encoded data removed]",
      "text/plain": [
       "<Figure size 1200x500 with 2 Axes>"
      ]
     },
     "metadata": {},
     "output_type": "display_data"
    }
   ],
   "source": [
    "plot_history(history)"
   ]
  },
  {
   "cell_type": "markdown",
   "metadata": {},
   "source": [
    "<h3>Testing</h3>"
   ]
  },
  {
   "cell_type": "code",
   "execution_count": 42,
   "metadata": {},
   "outputs": [
    {
     "name": "stdout",
     "output_type": "stream",
     "text": [
      "\u001b[1m20/20\u001b[0m \u001b[32m━━━━━━━━━━━━━━━━━━━━\u001b[0m\u001b[37m\u001b[0m \u001b[1m11s\u001b[0m 551ms/step - accuracy: 0.3976 - loss: 1.1021\n",
      "\u001b[1m40/40\u001b[0m \u001b[32m━━━━━━━━━━━━━━━━━━━━\u001b[0m\u001b[37m\u001b[0m \u001b[1m13s\u001b[0m 308ms/step\n",
      "ordinal accuracy:  0.755722178374112\n",
      "accuracy:  0.42225730419158936\n"
     ]
    }
   ],
   "source": [
    "score = shrink_model.evaluate(test_padded, test_labels, batch_size=64)\n",
    "\n",
    "probs = shrink_model.predict(test_padded) \n",
    "pred = np.argmax(probs,axis=1)\n",
    "\n",
    "ord_acc = weighted_ordinal_accuracy(test_labels, pred)\n",
    "\n",
    "print(\"ordinal accuracy: \", ord_acc)\n",
    "\n",
    "print(\"accuracy: \", score[1])"
   ]
  },
  {
   "cell_type": "markdown",
   "metadata": {},
   "source": [
    "We get a 42.22% accuracy and a 75.57% ordinal accuracy for 3 labels!"
   ]
  },
  {
   "cell_type": "markdown",
   "metadata": {},
   "source": [
    "<h3>References</h3>"
   ]
  },
  {
   "cell_type": "markdown",
   "metadata": {},
   "source": [
    "These are the sources I used when coding. I will look into more stuff as I continue to experiment with the CNN-RNN model."
   ]
  },
  {
   "cell_type": "markdown",
   "metadata": {},
   "source": [
    "Luay, M. (2023, September 22). *Sentiment analysis using recurrent neural network(rnn),long short term memory(lstm) and...* Medium. https://medium.com/@muhammadluay45/sentiment-analysis-using-recurrent-neural-network-rnn-long-short-term-memory-lstm-and-38d6e670173f \n",
    "\n",
    "Nasir, J. A., Khan, O. S., & Varlamis, I. (2021, January 5). *Fake news detection: A hybrid CNN-RNN based Deep Learning Approach*. International Journal of Information Management Data Insights. https://www.sciencedirect.com/science/article/pii/S2667096820300070#sec0012 "
   ]
  },
  {
   "cell_type": "markdown",
   "metadata": {},
   "source": []
  }
 ],
 "metadata": {
  "kernelspec": {
   "display_name": ".venv",
   "language": "python",
   "name": "python3"
  },
  "language_info": {
   "codemirror_mode": {
    "name": "ipython",
    "version": 3
   },
   "file_extension": ".py",
   "mimetype": "text/x-python",
   "name": "python",
   "nbconvert_exporter": "python",
   "pygments_lexer": "ipython3",
   "version": "3.10.10"
  }
 },
 "nbformat": 4,
 "nbformat_minor": 2
}
